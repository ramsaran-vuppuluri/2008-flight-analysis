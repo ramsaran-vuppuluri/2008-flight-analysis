{
 "cells": [
  {
   "cell_type": "markdown",
   "metadata": {},
   "source": [
    "# Wrangle Flight Data 2008\n",
    "\n",
    "## Author Ram Saran Vuppuluri."
   ]
  },
  {
   "cell_type": "markdown",
   "metadata": {},
   "source": [
    "In this project we are going to analyze:\n",
    "\n",
    "1.\tOn-ground performance of various airlines and airports operating in United States during 2008. \n",
    "2.\tConnectivity map and airline frequency.\n",
    "3.\tCause of delay.\n",
    "\n",
    "We need perform following data wrangling steps before doing any analysis.\n",
    "\n",
    "1.\tGather data\n",
    "2.\tAssess data\n",
    "3.\tClean data"
   ]
  },
  {
   "cell_type": "markdown",
   "metadata": {},
   "source": [
    "## Gather Data\n",
    "\n",
    "For this project we have manually downloaded __[2008.csv,airports.csv, carriers.csv](http://stat-computing.org/dataexpo/2009/the-data.html)__ and loaded the data into filghts_2008 data frame.\n",
    "\n"
   ]
  },
  {
   "cell_type": "code",
   "execution_count": 1,
   "metadata": {},
   "outputs": [],
   "source": [
    "import pandas as pd\n",
    "import datetime"
   ]
  },
  {
   "cell_type": "code",
   "execution_count": 2,
   "metadata": {},
   "outputs": [],
   "source": [
    "flights_2008 = pd.read_csv(\"2008.csv\")"
   ]
  },
  {
   "cell_type": "markdown",
   "metadata": {},
   "source": [
    "## Assess Data\n",
    "\n",
    "We will perform visual and programmatic assessment of data in filghts_2008 data frame."
   ]
  },
  {
   "cell_type": "markdown",
   "metadata": {},
   "source": [
    "### Visual Assessment\n",
    "\n",
    "From below visual assessment we find:\n",
    "\n",
    "1.\tFollowing columns are loaded as float64 instead of Time\n",
    "    * DepTime\n",
    "    * ArrTime\n",
    "2.\tFollowing columns are loaded as int64 instead of Time\n",
    "    * CRSDepTime\n",
    "    * CRSArrTime\n",
    "3.\tYear, Month and Day of Month are separate int64 attributes instead of Date.\n",
    "4.\tFollowing columns are loaded as int64 instead of Boolean\n",
    "    * Cancelled\n",
    "    * Diverted\n",
    "5.\tWe will create a new column with Boolean Delayed, which will populate if flight is delayed.\n",
    "\n",
    "    __Note__: In this case we cannot restructure delay time into one column because single delay can be caused by more than one reason.\n",
    "6.\tWe will create a new column Route of type object which is a Origin + “-“ + Dest.\n",
    "7. Change Carrier, Origin and Dest to Categorical."
   ]
  },
  {
   "cell_type": "code",
   "execution_count": 3,
   "metadata": {},
   "outputs": [
    {
     "name": "stdout",
     "output_type": "stream",
     "text": [
      "<class 'pandas.core.frame.DataFrame'>\n",
      "RangeIndex: 7009728 entries, 0 to 7009727\n",
      "Data columns (total 29 columns):\n",
      "Year                 int64\n",
      "Month                int64\n",
      "DayofMonth           int64\n",
      "DayOfWeek            int64\n",
      "DepTime              float64\n",
      "CRSDepTime           int64\n",
      "ArrTime              float64\n",
      "CRSArrTime           int64\n",
      "UniqueCarrier        object\n",
      "FlightNum            int64\n",
      "TailNum              object\n",
      "ActualElapsedTime    float64\n",
      "CRSElapsedTime       float64\n",
      "AirTime              float64\n",
      "ArrDelay             float64\n",
      "DepDelay             float64\n",
      "Origin               object\n",
      "Dest                 object\n",
      "Distance             int64\n",
      "TaxiIn               float64\n",
      "TaxiOut              float64\n",
      "Cancelled            int64\n",
      "CancellationCode     object\n",
      "Diverted             int64\n",
      "CarrierDelay         float64\n",
      "WeatherDelay         float64\n",
      "NASDelay             float64\n",
      "SecurityDelay        float64\n",
      "LateAircraftDelay    float64\n",
      "dtypes: float64(14), int64(10), object(5)\n",
      "memory usage: 1.5+ GB\n"
     ]
    }
   ],
   "source": [
    "flights_2008.info();"
   ]
  },
  {
   "cell_type": "markdown",
   "metadata": {},
   "source": [
    "### Programmatic Assessment\n",
    "\n",
    "From below programmatic assessment we find:\n",
    "\n",
    "1.\tFollowing columns have nan values:\n",
    "    * DepTime – Missing for cancelled flights\n",
    "    * ArrTime  – Missing for cancelled or diverted flights\n",
    "    * TailNum – Missing for cancelled or diverted flights. There are 5 records with no tail number. We are not going to utilize this column in our analysis.\n",
    "    * ActualElapsedTime – Missing for cancelled or diverted flights\n",
    "    * CRSElapsedTime – Missing for cancelled or diverted flights\n",
    "    * AirTime  – Missing for cancelled or diverted flights\n",
    "    * ArrDelay – Missing for cancelled or diverted flights\n",
    "    * DepDelay – Missing for cancelled or diverted flights\n",
    "    * TaxiIn – Missing for cancelled or diverted flights\n",
    "    * TaxiOut – Missing for cancelled or diverted flights\n",
    "    * CancellationCode – Missing for non-cancelled flight\n",
    "    * CarrierDelay – Missing for non-delayed flights\n",
    "    * WeatherDelay – Missing for non-delayed flights\n",
    "    * NASDelay – Missing for non-delayed flights\n",
    "    * SecurityDelay – Missing for non-delayed flights\n",
    "    * LateAircraftDelay – Missing for non-delayed flights"
   ]
  },
  {
   "cell_type": "code",
   "execution_count": 4,
   "metadata": {},
   "outputs": [
    {
     "data": {
      "text/plain": [
       "Year                 False\n",
       "Month                False\n",
       "DayofMonth           False\n",
       "DayOfWeek            False\n",
       "DepTime               True\n",
       "CRSDepTime           False\n",
       "ArrTime               True\n",
       "CRSArrTime           False\n",
       "UniqueCarrier        False\n",
       "FlightNum            False\n",
       "TailNum               True\n",
       "ActualElapsedTime     True\n",
       "CRSElapsedTime        True\n",
       "AirTime               True\n",
       "ArrDelay              True\n",
       "DepDelay              True\n",
       "Origin               False\n",
       "Dest                 False\n",
       "Distance             False\n",
       "TaxiIn                True\n",
       "TaxiOut               True\n",
       "Cancelled            False\n",
       "CancellationCode      True\n",
       "Diverted             False\n",
       "CarrierDelay          True\n",
       "WeatherDelay          True\n",
       "NASDelay              True\n",
       "SecurityDelay         True\n",
       "LateAircraftDelay     True\n",
       "dtype: bool"
      ]
     },
     "execution_count": 4,
     "metadata": {},
     "output_type": "execute_result"
    }
   ],
   "source": [
    "flights_2008.isna().any()"
   ]
  },
  {
   "cell_type": "code",
   "execution_count": 5,
   "metadata": {},
   "outputs": [
    {
     "data": {
      "text/plain": [
       "136246"
      ]
     },
     "execution_count": 5,
     "metadata": {},
     "output_type": "execute_result"
    }
   ],
   "source": [
    "len(flights_2008[(flights_2008.DepTime.isna())])"
   ]
  },
  {
   "cell_type": "code",
   "execution_count": 6,
   "metadata": {},
   "outputs": [
    {
     "data": {
      "text/plain": [
       "136246"
      ]
     },
     "execution_count": 6,
     "metadata": {},
     "output_type": "execute_result"
    }
   ],
   "source": [
    "len(flights_2008[(flights_2008.DepTime.isna()) & ((flights_2008.Cancelled == 1) | (flights_2008.Diverted == 1))])"
   ]
  },
  {
   "cell_type": "code",
   "execution_count": 7,
   "metadata": {},
   "outputs": [
    {
     "data": {
      "text/plain": [
       "151649"
      ]
     },
     "execution_count": 7,
     "metadata": {},
     "output_type": "execute_result"
    }
   ],
   "source": [
    "len(flights_2008[(flights_2008.ArrTime.isna())])"
   ]
  },
  {
   "cell_type": "code",
   "execution_count": 8,
   "metadata": {},
   "outputs": [
    {
     "data": {
      "text/plain": [
       "151649"
      ]
     },
     "execution_count": 8,
     "metadata": {},
     "output_type": "execute_result"
    }
   ],
   "source": [
    "len(flights_2008[(flights_2008.ArrTime.isna()) & ((flights_2008.Cancelled == 1) | (flights_2008.Diverted == 1))])"
   ]
  },
  {
   "cell_type": "code",
   "execution_count": 9,
   "metadata": {},
   "outputs": [
    {
     "data": {
      "text/plain": [
       "83365"
      ]
     },
     "execution_count": 9,
     "metadata": {},
     "output_type": "execute_result"
    }
   ],
   "source": [
    "len(flights_2008[(flights_2008.TailNum.isna())])"
   ]
  },
  {
   "cell_type": "code",
   "execution_count": 10,
   "metadata": {},
   "outputs": [
    {
     "data": {
      "text/plain": [
       "83360"
      ]
     },
     "execution_count": 10,
     "metadata": {},
     "output_type": "execute_result"
    }
   ],
   "source": [
    "len(flights_2008[(flights_2008.TailNum.isna()) & ((flights_2008.Cancelled == 1) | (flights_2008.Diverted == 1))])"
   ]
  },
  {
   "cell_type": "code",
   "execution_count": 11,
   "metadata": {},
   "outputs": [
    {
     "data": {
      "text/html": [
       "<div>\n",
       "<style scoped>\n",
       "    .dataframe tbody tr th:only-of-type {\n",
       "        vertical-align: middle;\n",
       "    }\n",
       "\n",
       "    .dataframe tbody tr th {\n",
       "        vertical-align: top;\n",
       "    }\n",
       "\n",
       "    .dataframe thead th {\n",
       "        text-align: right;\n",
       "    }\n",
       "</style>\n",
       "<table border=\"1\" class=\"dataframe\">\n",
       "  <thead>\n",
       "    <tr style=\"text-align: right;\">\n",
       "      <th></th>\n",
       "      <th>Year</th>\n",
       "      <th>Month</th>\n",
       "      <th>DayofMonth</th>\n",
       "      <th>DayOfWeek</th>\n",
       "      <th>DepTime</th>\n",
       "      <th>CRSDepTime</th>\n",
       "      <th>ArrTime</th>\n",
       "      <th>CRSArrTime</th>\n",
       "      <th>UniqueCarrier</th>\n",
       "      <th>FlightNum</th>\n",
       "      <th>...</th>\n",
       "      <th>TaxiIn</th>\n",
       "      <th>TaxiOut</th>\n",
       "      <th>Cancelled</th>\n",
       "      <th>CancellationCode</th>\n",
       "      <th>Diverted</th>\n",
       "      <th>CarrierDelay</th>\n",
       "      <th>WeatherDelay</th>\n",
       "      <th>NASDelay</th>\n",
       "      <th>SecurityDelay</th>\n",
       "      <th>LateAircraftDelay</th>\n",
       "    </tr>\n",
       "  </thead>\n",
       "  <tbody>\n",
       "    <tr>\n",
       "      <th>1643793</th>\n",
       "      <td>2008</td>\n",
       "      <td>3</td>\n",
       "      <td>18</td>\n",
       "      <td>2</td>\n",
       "      <td>1716.0</td>\n",
       "      <td>1655</td>\n",
       "      <td>2036.0</td>\n",
       "      <td>1947</td>\n",
       "      <td>9E</td>\n",
       "      <td>3760</td>\n",
       "      <td>...</td>\n",
       "      <td>11.0</td>\n",
       "      <td>29.0</td>\n",
       "      <td>0</td>\n",
       "      <td>NaN</td>\n",
       "      <td>0</td>\n",
       "      <td>0.0</td>\n",
       "      <td>0.0</td>\n",
       "      <td>28.0</td>\n",
       "      <td>0.0</td>\n",
       "      <td>21.0</td>\n",
       "    </tr>\n",
       "    <tr>\n",
       "      <th>1656781</th>\n",
       "      <td>2008</td>\n",
       "      <td>3</td>\n",
       "      <td>10</td>\n",
       "      <td>1</td>\n",
       "      <td>853.0</td>\n",
       "      <td>852</td>\n",
       "      <td>951.0</td>\n",
       "      <td>953</td>\n",
       "      <td>9E</td>\n",
       "      <td>5889</td>\n",
       "      <td>...</td>\n",
       "      <td>3.0</td>\n",
       "      <td>30.0</td>\n",
       "      <td>0</td>\n",
       "      <td>NaN</td>\n",
       "      <td>0</td>\n",
       "      <td>NaN</td>\n",
       "      <td>NaN</td>\n",
       "      <td>NaN</td>\n",
       "      <td>NaN</td>\n",
       "      <td>NaN</td>\n",
       "    </tr>\n",
       "    <tr>\n",
       "      <th>2543429</th>\n",
       "      <td>2008</td>\n",
       "      <td>5</td>\n",
       "      <td>8</td>\n",
       "      <td>4</td>\n",
       "      <td>1545.0</td>\n",
       "      <td>1530</td>\n",
       "      <td>1711.0</td>\n",
       "      <td>1707</td>\n",
       "      <td>OH</td>\n",
       "      <td>5043</td>\n",
       "      <td>...</td>\n",
       "      <td>5.0</td>\n",
       "      <td>15.0</td>\n",
       "      <td>0</td>\n",
       "      <td>NaN</td>\n",
       "      <td>0</td>\n",
       "      <td>NaN</td>\n",
       "      <td>NaN</td>\n",
       "      <td>NaN</td>\n",
       "      <td>NaN</td>\n",
       "      <td>NaN</td>\n",
       "    </tr>\n",
       "    <tr>\n",
       "      <th>2556354</th>\n",
       "      <td>2008</td>\n",
       "      <td>5</td>\n",
       "      <td>31</td>\n",
       "      <td>6</td>\n",
       "      <td>1720.0</td>\n",
       "      <td>1244</td>\n",
       "      <td>1920.0</td>\n",
       "      <td>1427</td>\n",
       "      <td>OH</td>\n",
       "      <td>5396</td>\n",
       "      <td>...</td>\n",
       "      <td>8.0</td>\n",
       "      <td>40.0</td>\n",
       "      <td>0</td>\n",
       "      <td>NaN</td>\n",
       "      <td>0</td>\n",
       "      <td>0.0</td>\n",
       "      <td>276.0</td>\n",
       "      <td>17.0</td>\n",
       "      <td>0.0</td>\n",
       "      <td>0.0</td>\n",
       "    </tr>\n",
       "    <tr>\n",
       "      <th>6616551</th>\n",
       "      <td>2008</td>\n",
       "      <td>12</td>\n",
       "      <td>31</td>\n",
       "      <td>3</td>\n",
       "      <td>830.0</td>\n",
       "      <td>835</td>\n",
       "      <td>1023.0</td>\n",
       "      <td>1015</td>\n",
       "      <td>OH</td>\n",
       "      <td>6624</td>\n",
       "      <td>...</td>\n",
       "      <td>8.0</td>\n",
       "      <td>13.0</td>\n",
       "      <td>0</td>\n",
       "      <td>NaN</td>\n",
       "      <td>0</td>\n",
       "      <td>NaN</td>\n",
       "      <td>NaN</td>\n",
       "      <td>NaN</td>\n",
       "      <td>NaN</td>\n",
       "      <td>NaN</td>\n",
       "    </tr>\n",
       "  </tbody>\n",
       "</table>\n",
       "<p>5 rows × 29 columns</p>\n",
       "</div>"
      ],
      "text/plain": [
       "         Year  Month  DayofMonth  DayOfWeek  DepTime  CRSDepTime  ArrTime  \\\n",
       "1643793  2008      3          18          2   1716.0        1655   2036.0   \n",
       "1656781  2008      3          10          1    853.0         852    951.0   \n",
       "2543429  2008      5           8          4   1545.0        1530   1711.0   \n",
       "2556354  2008      5          31          6   1720.0        1244   1920.0   \n",
       "6616551  2008     12          31          3    830.0         835   1023.0   \n",
       "\n",
       "         CRSArrTime UniqueCarrier  FlightNum        ...         TaxiIn  \\\n",
       "1643793        1947            9E       3760        ...           11.0   \n",
       "1656781         953            9E       5889        ...            3.0   \n",
       "2543429        1707            OH       5043        ...            5.0   \n",
       "2556354        1427            OH       5396        ...            8.0   \n",
       "6616551        1015            OH       6624        ...            8.0   \n",
       "\n",
       "         TaxiOut  Cancelled  CancellationCode  Diverted  CarrierDelay  \\\n",
       "1643793     29.0          0               NaN         0           0.0   \n",
       "1656781     30.0          0               NaN         0           NaN   \n",
       "2543429     15.0          0               NaN         0           NaN   \n",
       "2556354     40.0          0               NaN         0           0.0   \n",
       "6616551     13.0          0               NaN         0           NaN   \n",
       "\n",
       "        WeatherDelay NASDelay  SecurityDelay  LateAircraftDelay  \n",
       "1643793          0.0     28.0            0.0               21.0  \n",
       "1656781          NaN      NaN            NaN                NaN  \n",
       "2543429          NaN      NaN            NaN                NaN  \n",
       "2556354        276.0     17.0            0.0                0.0  \n",
       "6616551          NaN      NaN            NaN                NaN  \n",
       "\n",
       "[5 rows x 29 columns]"
      ]
     },
     "execution_count": 11,
     "metadata": {},
     "output_type": "execute_result"
    }
   ],
   "source": [
    "flights_2008[(flights_2008.TailNum.isna()) & ((flights_2008.Cancelled == 0) & (flights_2008.Diverted == 0))]"
   ]
  },
  {
   "cell_type": "code",
   "execution_count": 12,
   "metadata": {},
   "outputs": [
    {
     "data": {
      "text/plain": [
       "154699"
      ]
     },
     "execution_count": 12,
     "metadata": {},
     "output_type": "execute_result"
    }
   ],
   "source": [
    "len(flights_2008[flights_2008.ActualElapsedTime.isna()])"
   ]
  },
  {
   "cell_type": "code",
   "execution_count": 13,
   "metadata": {},
   "outputs": [
    {
     "data": {
      "text/plain": [
       "154699"
      ]
     },
     "execution_count": 13,
     "metadata": {},
     "output_type": "execute_result"
    }
   ],
   "source": [
    "len(flights_2008[(flights_2008.ActualElapsedTime.isna())& ((flights_2008.Cancelled == 1) | (flights_2008.Diverted == 1))])"
   ]
  },
  {
   "cell_type": "code",
   "execution_count": 14,
   "metadata": {},
   "outputs": [
    {
     "data": {
      "text/plain": [
       "154699"
      ]
     },
     "execution_count": 14,
     "metadata": {},
     "output_type": "execute_result"
    }
   ],
   "source": [
    "len(flights_2008[flights_2008.AirTime.isna()])"
   ]
  },
  {
   "cell_type": "code",
   "execution_count": 15,
   "metadata": {},
   "outputs": [
    {
     "data": {
      "text/plain": [
       "154699"
      ]
     },
     "execution_count": 15,
     "metadata": {},
     "output_type": "execute_result"
    }
   ],
   "source": [
    "len(flights_2008[(flights_2008.AirTime.isna())& ((flights_2008.Cancelled == 1) | (flights_2008.Diverted == 1))])"
   ]
  },
  {
   "cell_type": "code",
   "execution_count": 16,
   "metadata": {},
   "outputs": [
    {
     "data": {
      "text/plain": [
       "154699"
      ]
     },
     "execution_count": 16,
     "metadata": {},
     "output_type": "execute_result"
    }
   ],
   "source": [
    "len(flights_2008[flights_2008.ArrDelay.isna()])"
   ]
  },
  {
   "cell_type": "code",
   "execution_count": 17,
   "metadata": {},
   "outputs": [
    {
     "data": {
      "text/plain": [
       "154699"
      ]
     },
     "execution_count": 17,
     "metadata": {},
     "output_type": "execute_result"
    }
   ],
   "source": [
    "len(flights_2008[(flights_2008.ArrDelay.isna())& ((flights_2008.Cancelled == 1) | (flights_2008.Diverted == 1))])"
   ]
  },
  {
   "cell_type": "code",
   "execution_count": 18,
   "metadata": {},
   "outputs": [
    {
     "data": {
      "text/plain": [
       "136246"
      ]
     },
     "execution_count": 18,
     "metadata": {},
     "output_type": "execute_result"
    }
   ],
   "source": [
    "len(flights_2008[flights_2008.DepDelay.isna()])"
   ]
  },
  {
   "cell_type": "code",
   "execution_count": 19,
   "metadata": {},
   "outputs": [
    {
     "data": {
      "text/plain": [
       "136246"
      ]
     },
     "execution_count": 19,
     "metadata": {},
     "output_type": "execute_result"
    }
   ],
   "source": [
    "len(flights_2008[(flights_2008.DepDelay.isna())& ((flights_2008.Cancelled == 1) | (flights_2008.Diverted == 1))])"
   ]
  },
  {
   "cell_type": "code",
   "execution_count": 20,
   "metadata": {},
   "outputs": [
    {
     "data": {
      "text/plain": [
       "151649"
      ]
     },
     "execution_count": 20,
     "metadata": {},
     "output_type": "execute_result"
    }
   ],
   "source": [
    "len(flights_2008[flights_2008.TaxiIn.isna()])"
   ]
  },
  {
   "cell_type": "code",
   "execution_count": 21,
   "metadata": {},
   "outputs": [
    {
     "data": {
      "text/plain": [
       "151649"
      ]
     },
     "execution_count": 21,
     "metadata": {},
     "output_type": "execute_result"
    }
   ],
   "source": [
    "len(flights_2008[(flights_2008.TaxiIn.isna())& ((flights_2008.Cancelled == 1) | (flights_2008.Diverted == 1))])"
   ]
  },
  {
   "cell_type": "code",
   "execution_count": 22,
   "metadata": {},
   "outputs": [
    {
     "data": {
      "text/plain": [
       "137058"
      ]
     },
     "execution_count": 22,
     "metadata": {},
     "output_type": "execute_result"
    }
   ],
   "source": [
    "len(flights_2008[flights_2008.TaxiOut.isna()])"
   ]
  },
  {
   "cell_type": "code",
   "execution_count": 23,
   "metadata": {},
   "outputs": [
    {
     "data": {
      "text/plain": [
       "137058"
      ]
     },
     "execution_count": 23,
     "metadata": {},
     "output_type": "execute_result"
    }
   ],
   "source": [
    "len(flights_2008[(flights_2008.TaxiOut.isna())& ((flights_2008.Cancelled == 1) | (flights_2008.Diverted == 1))])"
   ]
  },
  {
   "cell_type": "code",
   "execution_count": 24,
   "metadata": {},
   "outputs": [
    {
     "data": {
      "text/plain": [
       "6872294"
      ]
     },
     "execution_count": 24,
     "metadata": {},
     "output_type": "execute_result"
    }
   ],
   "source": [
    "len(flights_2008[flights_2008.CancellationCode.isna()])"
   ]
  },
  {
   "cell_type": "code",
   "execution_count": 25,
   "metadata": {},
   "outputs": [
    {
     "data": {
      "text/plain": [
       "6872294"
      ]
     },
     "execution_count": 25,
     "metadata": {},
     "output_type": "execute_result"
    }
   ],
   "source": [
    "len(flights_2008[(flights_2008.CancellationCode.isna())& (flights_2008.Cancelled == 0)])"
   ]
  },
  {
   "cell_type": "code",
   "execution_count": 26,
   "metadata": {},
   "outputs": [
    {
     "data": {
      "text/plain": [
       "5484993"
      ]
     },
     "execution_count": 26,
     "metadata": {},
     "output_type": "execute_result"
    }
   ],
   "source": [
    "len(flights_2008[flights_2008.CarrierDelay.isna()])"
   ]
  },
  {
   "cell_type": "code",
   "execution_count": 27,
   "metadata": {},
   "outputs": [
    {
     "data": {
      "text/plain": [
       "5484993"
      ]
     },
     "execution_count": 27,
     "metadata": {},
     "output_type": "execute_result"
    }
   ],
   "source": [
    "len(flights_2008[flights_2008.WeatherDelay.isna()])"
   ]
  },
  {
   "cell_type": "code",
   "execution_count": 28,
   "metadata": {},
   "outputs": [
    {
     "data": {
      "text/plain": [
       "5484993"
      ]
     },
     "execution_count": 28,
     "metadata": {},
     "output_type": "execute_result"
    }
   ],
   "source": [
    "len(flights_2008[flights_2008.NASDelay.isna()])"
   ]
  },
  {
   "cell_type": "code",
   "execution_count": 29,
   "metadata": {},
   "outputs": [
    {
     "data": {
      "text/plain": [
       "5484993"
      ]
     },
     "execution_count": 29,
     "metadata": {},
     "output_type": "execute_result"
    }
   ],
   "source": [
    "len(flights_2008[flights_2008.SecurityDelay.isna()])"
   ]
  },
  {
   "cell_type": "code",
   "execution_count": 30,
   "metadata": {},
   "outputs": [
    {
     "data": {
      "text/plain": [
       "5484993"
      ]
     },
     "execution_count": 30,
     "metadata": {},
     "output_type": "execute_result"
    }
   ],
   "source": [
    "len(flights_2008[flights_2008.LateAircraftDelay.isna()])"
   ]
  },
  {
   "cell_type": "markdown",
   "metadata": {},
   "source": [
    "From the above visual and programmatic assessment, we find following quality and tidiness issues.\n",
    "\n",
    "### Quality issues:\n",
    "\n",
    "1. Following columns have nan values:\n",
    "    * DepTime – Missing for cancelled flights\n",
    "    * ArrTime  – Missing for cancelled or diverted flights\n",
    "    * ActualElapsedTime – Missing for cancelled or diverted flights\n",
    "    * CRSElapsedTime – Missing for cancelled or diverted flights\n",
    "    * AirTime  – Missing for cancelled or diverted flights\n",
    "    * ArrDelay – Missing for cancelled or diverted flights\n",
    "    * DepDelay – Missing for cancelled or diverted flights\n",
    "    * TaxiIn – Missing for cancelled or diverted flights\n",
    "    * TaxiOut – Missing for cancelled or diverted flights\n",
    "    * CancellationCode – Missing for non-cancelled flight\n",
    "    * CarrierDelay – Missing for non-delayed flights\n",
    "    * WeatherDelay – Missing for non-delayed flights\n",
    "    * NASDelay – Missing for non-delayed flights\n",
    "    * SecurityDelay – Missing for non-delayed flights\n",
    "    * LateAircraftDelay – Missing for non-delayed flights\n",
    "2. Following columns are loaded as float64 instead of Time\n",
    "    * DepTime\n",
    "    * ArrTime\n",
    "3. Following columns are loaded as int64 instead of Time\n",
    "    * CRSDepTime\n",
    "    * CRSArrTime\n",
    "4. Following columns are loaded as int64 instead of Boolean\n",
    "    * Cancelled\n",
    "    * Diverted\n",
    "5. Change Carrier, Origin and Dest to Categorical.\n",
    "\n",
    "### Tidiness issues:\n",
    "\n",
    "1. Year, Month and Day of Month are separate int64 attributes instead of Date. We will delete individual fields and create consolidated date time columns for CRSDep, CRSArr, Dep and Arr. There are some time fields with value 24:00 which should change date to next date.\n",
    "2.\tWe will create a new column with Boolean Delayed, which will populate if flight is delayed.\n",
    "\n",
    "    __Note__: In this case we cannot restructure delay time into one column because single delay can be caused by more than one reason.\n",
    "3.\tWe will create a new column Route of type object which is a Origin + “-“ + Dest.\n",
    "4. TailNum column will be deleted as we are not going to utilize this column in our analysis."
   ]
  },
  {
   "cell_type": "markdown",
   "metadata": {},
   "source": [
    "## Clean Data\n",
    "\n",
    "__Note__ as the dataframe memory foot print is large we are not going to create a new clean copy."
   ]
  },
  {
   "cell_type": "markdown",
   "metadata": {},
   "source": [
    "### Quality issues:\n",
    "\n",
    "1. Following columns have nan values:\n",
    "    * DepTime – Missing for cancelled flights\n",
    "    * ArrTime  – Missing for cancelled or diverted flights\n",
    "    * ActualElapsedTime – Missing for cancelled or diverted flights\n",
    "    * CRSElapsedTime – Missing for cancelled or diverted flights\n",
    "    * AirTime  – Missing for cancelled or diverted flights\n",
    "    * ArrDelay – Missing for cancelled or diverted flights\n",
    "    * DepDelay – Missing for cancelled or diverted flights\n",
    "    * TaxiIn – Missing for cancelled or diverted flights\n",
    "    * TaxiOut – Missing for cancelled or diverted flights\n",
    "    * CancellationCode – Missing for non-cancelled flight\n",
    "    * CarrierDelay – Missing for non-delayed flights\n",
    "    * WeatherDelay – Missing for non-delayed flights\n",
    "    * NASDelay – Missing for non-delayed flights\n",
    "    * SecurityDelay – Missing for non-delayed flights\n",
    "    * LateAircraftDelay – Missing for non-delayed flights\n",
    "2. Following columns are loaded as float64 instead of Time\n",
    "    * DepTime\n",
    "    * ArrTime\n",
    "3. Following columns are loaded as int64 instead of Time\n",
    "    * CRSDepTime\n",
    "    * CRSArrTime\n",
    "4. Following columns are loaded as int64 instead of Boolean\n",
    "    * Cancelled\n",
    "    * Diverted\n",
    "5. Change Carrier, Origin and Dest to Categorical."
   ]
  },
  {
   "cell_type": "markdown",
   "metadata": {},
   "source": [
    "### Code\n",
    "\n",
    "DepTime – Missing for cancelled flights"
   ]
  },
  {
   "cell_type": "code",
   "execution_count": 31,
   "metadata": {},
   "outputs": [
    {
     "data": {
      "text/plain": [
       "dtype('float64')"
      ]
     },
     "execution_count": 31,
     "metadata": {},
     "output_type": "execute_result"
    }
   ],
   "source": [
    "flights_2008.DepTime.dtype"
   ]
  },
  {
   "cell_type": "code",
   "execution_count": 32,
   "metadata": {},
   "outputs": [],
   "source": [
    "flights_2008.DepTime.fillna(value=0.0,inplace=True)"
   ]
  },
  {
   "cell_type": "markdown",
   "metadata": {},
   "source": [
    "### Test\n",
    "\n",
    "DepTime – Missing for cancelled flights"
   ]
  },
  {
   "cell_type": "code",
   "execution_count": 33,
   "metadata": {},
   "outputs": [
    {
     "data": {
      "text/plain": [
       "0"
      ]
     },
     "execution_count": 33,
     "metadata": {},
     "output_type": "execute_result"
    }
   ],
   "source": [
    "len(flights_2008[flights_2008.DepTime.isna()])"
   ]
  },
  {
   "cell_type": "markdown",
   "metadata": {},
   "source": [
    "### Code\n",
    "\n",
    "ArrTime  – Missing for cancelled or diverted flights"
   ]
  },
  {
   "cell_type": "code",
   "execution_count": 34,
   "metadata": {},
   "outputs": [
    {
     "data": {
      "text/plain": [
       "dtype('float64')"
      ]
     },
     "execution_count": 34,
     "metadata": {},
     "output_type": "execute_result"
    }
   ],
   "source": [
    "flights_2008.ArrTime.dtype"
   ]
  },
  {
   "cell_type": "code",
   "execution_count": 35,
   "metadata": {},
   "outputs": [],
   "source": [
    "flights_2008.ArrTime.fillna(value=0.0,inplace=True)"
   ]
  },
  {
   "cell_type": "markdown",
   "metadata": {},
   "source": [
    "### Test\n",
    "\n",
    "ArrTime  – Missing for cancelled or diverted flights"
   ]
  },
  {
   "cell_type": "code",
   "execution_count": 36,
   "metadata": {},
   "outputs": [
    {
     "data": {
      "text/plain": [
       "0"
      ]
     },
     "execution_count": 36,
     "metadata": {},
     "output_type": "execute_result"
    }
   ],
   "source": [
    "len(flights_2008[flights_2008.ArrTime.isna()])"
   ]
  },
  {
   "cell_type": "markdown",
   "metadata": {},
   "source": [
    "### Code\n",
    "\n",
    "ActualElapsedTime – Missing for cancelled or diverted flights"
   ]
  },
  {
   "cell_type": "code",
   "execution_count": 37,
   "metadata": {},
   "outputs": [
    {
     "data": {
      "text/plain": [
       "dtype('float64')"
      ]
     },
     "execution_count": 37,
     "metadata": {},
     "output_type": "execute_result"
    }
   ],
   "source": [
    "flights_2008.ActualElapsedTime.dtype"
   ]
  },
  {
   "cell_type": "code",
   "execution_count": 38,
   "metadata": {},
   "outputs": [],
   "source": [
    "flights_2008.ActualElapsedTime.fillna(value=0.0,inplace=True)"
   ]
  },
  {
   "cell_type": "markdown",
   "metadata": {},
   "source": [
    "### Test\n",
    "\n",
    "ActualElapsedTime – Missing for cancelled or diverted flights"
   ]
  },
  {
   "cell_type": "code",
   "execution_count": 39,
   "metadata": {},
   "outputs": [
    {
     "data": {
      "text/plain": [
       "0"
      ]
     },
     "execution_count": 39,
     "metadata": {},
     "output_type": "execute_result"
    }
   ],
   "source": [
    "len(flights_2008[flights_2008.ActualElapsedTime.isna()])"
   ]
  },
  {
   "cell_type": "markdown",
   "metadata": {},
   "source": [
    "### Code\n",
    "\n",
    "CRSElapsedTime – Missing for cancelled or diverted flights"
   ]
  },
  {
   "cell_type": "code",
   "execution_count": 40,
   "metadata": {},
   "outputs": [
    {
     "data": {
      "text/plain": [
       "dtype('float64')"
      ]
     },
     "execution_count": 40,
     "metadata": {},
     "output_type": "execute_result"
    }
   ],
   "source": [
    "flights_2008.CRSElapsedTime.dtype"
   ]
  },
  {
   "cell_type": "code",
   "execution_count": 41,
   "metadata": {},
   "outputs": [],
   "source": [
    "flights_2008.CRSElapsedTime.fillna(value=0.0,inplace=True)"
   ]
  },
  {
   "cell_type": "markdown",
   "metadata": {},
   "source": [
    "### Test\n",
    "\n",
    "CRSElapsedTime – Missing for cancelled or diverted flights"
   ]
  },
  {
   "cell_type": "code",
   "execution_count": 42,
   "metadata": {},
   "outputs": [
    {
     "data": {
      "text/plain": [
       "0"
      ]
     },
     "execution_count": 42,
     "metadata": {},
     "output_type": "execute_result"
    }
   ],
   "source": [
    "len(flights_2008[flights_2008.CRSElapsedTime.isna()])"
   ]
  },
  {
   "cell_type": "markdown",
   "metadata": {},
   "source": [
    "### Code\n",
    "\n",
    "AirTime  – Missing for cancelled or diverted flights"
   ]
  },
  {
   "cell_type": "code",
   "execution_count": 43,
   "metadata": {},
   "outputs": [
    {
     "data": {
      "text/plain": [
       "dtype('float64')"
      ]
     },
     "execution_count": 43,
     "metadata": {},
     "output_type": "execute_result"
    }
   ],
   "source": [
    "flights_2008.AirTime.dtype"
   ]
  },
  {
   "cell_type": "code",
   "execution_count": 44,
   "metadata": {},
   "outputs": [],
   "source": [
    "flights_2008.AirTime.fillna(value=0.0,inplace=True)"
   ]
  },
  {
   "cell_type": "markdown",
   "metadata": {},
   "source": [
    "### Test\n",
    "\n",
    "AirTime  – Missing for cancelled or diverted flights"
   ]
  },
  {
   "cell_type": "code",
   "execution_count": 45,
   "metadata": {},
   "outputs": [
    {
     "data": {
      "text/plain": [
       "0"
      ]
     },
     "execution_count": 45,
     "metadata": {},
     "output_type": "execute_result"
    }
   ],
   "source": [
    "len(flights_2008[flights_2008.AirTime.isna()])"
   ]
  },
  {
   "cell_type": "markdown",
   "metadata": {},
   "source": [
    "### Code\n",
    "\n",
    "ArrDelay – Missing for cancelled or diverted flight"
   ]
  },
  {
   "cell_type": "code",
   "execution_count": 46,
   "metadata": {},
   "outputs": [
    {
     "data": {
      "text/plain": [
       "dtype('float64')"
      ]
     },
     "execution_count": 46,
     "metadata": {},
     "output_type": "execute_result"
    }
   ],
   "source": [
    "flights_2008.ArrDelay.dtype"
   ]
  },
  {
   "cell_type": "code",
   "execution_count": 47,
   "metadata": {},
   "outputs": [],
   "source": [
    "flights_2008.ArrDelay.fillna(value=0.0,inplace=True)"
   ]
  },
  {
   "cell_type": "markdown",
   "metadata": {},
   "source": [
    "### Test\n",
    "\n",
    "ArrDelay – Missing for cancelled or diverted flight"
   ]
  },
  {
   "cell_type": "code",
   "execution_count": 48,
   "metadata": {},
   "outputs": [
    {
     "data": {
      "text/plain": [
       "0"
      ]
     },
     "execution_count": 48,
     "metadata": {},
     "output_type": "execute_result"
    }
   ],
   "source": [
    "len(flights_2008[flights_2008.ArrDelay.isna()])"
   ]
  },
  {
   "cell_type": "markdown",
   "metadata": {},
   "source": [
    "### Code\n",
    "\n",
    "DepDelay – Missing for cancelled or diverted flights"
   ]
  },
  {
   "cell_type": "code",
   "execution_count": 49,
   "metadata": {},
   "outputs": [
    {
     "data": {
      "text/plain": [
       "dtype('float64')"
      ]
     },
     "execution_count": 49,
     "metadata": {},
     "output_type": "execute_result"
    }
   ],
   "source": [
    "flights_2008.DepDelay.dtype"
   ]
  },
  {
   "cell_type": "code",
   "execution_count": 50,
   "metadata": {},
   "outputs": [],
   "source": [
    "flights_2008.DepDelay.fillna(value=0.0,inplace=True)"
   ]
  },
  {
   "cell_type": "markdown",
   "metadata": {},
   "source": [
    "### Test\n",
    "\n",
    "DepDelay – Missing for cancelled or diverted flights"
   ]
  },
  {
   "cell_type": "code",
   "execution_count": 51,
   "metadata": {},
   "outputs": [
    {
     "data": {
      "text/plain": [
       "0"
      ]
     },
     "execution_count": 51,
     "metadata": {},
     "output_type": "execute_result"
    }
   ],
   "source": [
    "len(flights_2008[flights_2008.DepDelay.isna()])"
   ]
  },
  {
   "cell_type": "markdown",
   "metadata": {},
   "source": [
    "### Code\n",
    "\n",
    "TaxiIn – Missing for cancelled or diverted flights"
   ]
  },
  {
   "cell_type": "code",
   "execution_count": 52,
   "metadata": {},
   "outputs": [
    {
     "data": {
      "text/plain": [
       "dtype('float64')"
      ]
     },
     "execution_count": 52,
     "metadata": {},
     "output_type": "execute_result"
    }
   ],
   "source": [
    "flights_2008.TaxiIn.dtype"
   ]
  },
  {
   "cell_type": "code",
   "execution_count": 53,
   "metadata": {},
   "outputs": [],
   "source": [
    "flights_2008.TaxiIn.fillna(value=0.0,inplace=True)"
   ]
  },
  {
   "cell_type": "markdown",
   "metadata": {},
   "source": [
    "### Test\n",
    "\n",
    "TaxiIn – Missing for cancelled or diverted flights"
   ]
  },
  {
   "cell_type": "code",
   "execution_count": 54,
   "metadata": {},
   "outputs": [
    {
     "data": {
      "text/plain": [
       "0"
      ]
     },
     "execution_count": 54,
     "metadata": {},
     "output_type": "execute_result"
    }
   ],
   "source": [
    "len(flights_2008[flights_2008.TaxiIn.isna()])"
   ]
  },
  {
   "cell_type": "markdown",
   "metadata": {},
   "source": [
    "### Code\n",
    "\n",
    "TaxiOut – Missing for cancelled or diverted flights"
   ]
  },
  {
   "cell_type": "code",
   "execution_count": 55,
   "metadata": {},
   "outputs": [
    {
     "data": {
      "text/plain": [
       "dtype('float64')"
      ]
     },
     "execution_count": 55,
     "metadata": {},
     "output_type": "execute_result"
    }
   ],
   "source": [
    "flights_2008.TaxiOut.dtype"
   ]
  },
  {
   "cell_type": "code",
   "execution_count": 56,
   "metadata": {},
   "outputs": [],
   "source": [
    "flights_2008.TaxiOut.fillna(value=0.0,inplace=True)"
   ]
  },
  {
   "cell_type": "markdown",
   "metadata": {},
   "source": [
    "### Test\n",
    "\n",
    "TaxiOut – Missing for cancelled or diverted flights"
   ]
  },
  {
   "cell_type": "code",
   "execution_count": 57,
   "metadata": {},
   "outputs": [
    {
     "data": {
      "text/plain": [
       "0"
      ]
     },
     "execution_count": 57,
     "metadata": {},
     "output_type": "execute_result"
    }
   ],
   "source": [
    "len(flights_2008[flights_2008.TaxiOut.isna()])"
   ]
  },
  {
   "cell_type": "markdown",
   "metadata": {},
   "source": [
    "### Code\n",
    "\n",
    "CancellationCode – Missing for non-cancelled flights"
   ]
  },
  {
   "cell_type": "code",
   "execution_count": 58,
   "metadata": {},
   "outputs": [
    {
     "data": {
      "text/plain": [
       "dtype('O')"
      ]
     },
     "execution_count": 58,
     "metadata": {},
     "output_type": "execute_result"
    }
   ],
   "source": [
    "flights_2008.CancellationCode.dtype"
   ]
  },
  {
   "cell_type": "code",
   "execution_count": 59,
   "metadata": {},
   "outputs": [],
   "source": [
    "flights_2008.CancellationCode.fillna(value='',inplace=True)"
   ]
  },
  {
   "cell_type": "markdown",
   "metadata": {},
   "source": [
    "### Test\n",
    "\n",
    "CancellationCode – Missing for non-cancelled flights"
   ]
  },
  {
   "cell_type": "code",
   "execution_count": 60,
   "metadata": {},
   "outputs": [
    {
     "data": {
      "text/plain": [
       "0"
      ]
     },
     "execution_count": 60,
     "metadata": {},
     "output_type": "execute_result"
    }
   ],
   "source": [
    "len(flights_2008[flights_2008.CancellationCode.isna()])"
   ]
  },
  {
   "cell_type": "markdown",
   "metadata": {},
   "source": [
    "### Code\n",
    "\n",
    "CarrierDelay – Missing for non-delayed flights"
   ]
  },
  {
   "cell_type": "code",
   "execution_count": 61,
   "metadata": {},
   "outputs": [
    {
     "data": {
      "text/plain": [
       "dtype('float64')"
      ]
     },
     "execution_count": 61,
     "metadata": {},
     "output_type": "execute_result"
    }
   ],
   "source": [
    "flights_2008.CarrierDelay.dtype"
   ]
  },
  {
   "cell_type": "code",
   "execution_count": 62,
   "metadata": {},
   "outputs": [],
   "source": [
    "flights_2008.CarrierDelay.fillna(value=0.0,inplace=True)"
   ]
  },
  {
   "cell_type": "markdown",
   "metadata": {},
   "source": [
    "### Test\n",
    "\n",
    "CarrierDelay – Missing for non-delayed flights"
   ]
  },
  {
   "cell_type": "code",
   "execution_count": 63,
   "metadata": {},
   "outputs": [
    {
     "data": {
      "text/plain": [
       "0"
      ]
     },
     "execution_count": 63,
     "metadata": {},
     "output_type": "execute_result"
    }
   ],
   "source": [
    "len(flights_2008[flights_2008.CarrierDelay.isna()])"
   ]
  },
  {
   "cell_type": "markdown",
   "metadata": {},
   "source": [
    "### Code\n",
    "\n",
    "WeatherDelay – Missing for non-delayed flights"
   ]
  },
  {
   "cell_type": "code",
   "execution_count": 64,
   "metadata": {},
   "outputs": [
    {
     "data": {
      "text/plain": [
       "dtype('float64')"
      ]
     },
     "execution_count": 64,
     "metadata": {},
     "output_type": "execute_result"
    }
   ],
   "source": [
    "flights_2008.WeatherDelay.dtype"
   ]
  },
  {
   "cell_type": "code",
   "execution_count": 65,
   "metadata": {},
   "outputs": [],
   "source": [
    "flights_2008.WeatherDelay.fillna(value=0.0,inplace=True)"
   ]
  },
  {
   "cell_type": "markdown",
   "metadata": {},
   "source": [
    "### Test\n",
    "\n",
    "WeatherDelay – Missing for non-delayed flights"
   ]
  },
  {
   "cell_type": "code",
   "execution_count": 66,
   "metadata": {},
   "outputs": [
    {
     "data": {
      "text/plain": [
       "0"
      ]
     },
     "execution_count": 66,
     "metadata": {},
     "output_type": "execute_result"
    }
   ],
   "source": [
    "len(flights_2008[flights_2008.WeatherDelay.isna()])"
   ]
  },
  {
   "cell_type": "markdown",
   "metadata": {},
   "source": [
    "### Code\n",
    "\n",
    "NASDelay – Missing for non-delayed flights"
   ]
  },
  {
   "cell_type": "code",
   "execution_count": 67,
   "metadata": {},
   "outputs": [
    {
     "data": {
      "text/plain": [
       "dtype('float64')"
      ]
     },
     "execution_count": 67,
     "metadata": {},
     "output_type": "execute_result"
    }
   ],
   "source": [
    "flights_2008.NASDelay.dtype"
   ]
  },
  {
   "cell_type": "code",
   "execution_count": 68,
   "metadata": {},
   "outputs": [],
   "source": [
    "flights_2008.NASDelay.fillna(value=0.0,inplace=True)"
   ]
  },
  {
   "cell_type": "markdown",
   "metadata": {},
   "source": [
    "### Test\n",
    "\n",
    "NASDelay – Missing for non-delayed flights"
   ]
  },
  {
   "cell_type": "code",
   "execution_count": 69,
   "metadata": {},
   "outputs": [
    {
     "data": {
      "text/plain": [
       "0"
      ]
     },
     "execution_count": 69,
     "metadata": {},
     "output_type": "execute_result"
    }
   ],
   "source": [
    "len(flights_2008[flights_2008.NASDelay.isna()])"
   ]
  },
  {
   "cell_type": "markdown",
   "metadata": {},
   "source": [
    "### Code\n",
    "\n",
    "SecurityDelay – Missing for non-delayed flights"
   ]
  },
  {
   "cell_type": "code",
   "execution_count": 70,
   "metadata": {},
   "outputs": [
    {
     "data": {
      "text/plain": [
       "dtype('float64')"
      ]
     },
     "execution_count": 70,
     "metadata": {},
     "output_type": "execute_result"
    }
   ],
   "source": [
    "flights_2008.SecurityDelay.dtype"
   ]
  },
  {
   "cell_type": "code",
   "execution_count": 71,
   "metadata": {},
   "outputs": [],
   "source": [
    "flights_2008.SecurityDelay.fillna(value=0.0,inplace=True)"
   ]
  },
  {
   "cell_type": "markdown",
   "metadata": {},
   "source": [
    "### Test\n",
    "\n",
    "SecurityDelay – Missing for non-delayed flights"
   ]
  },
  {
   "cell_type": "code",
   "execution_count": 72,
   "metadata": {},
   "outputs": [
    {
     "data": {
      "text/plain": [
       "0"
      ]
     },
     "execution_count": 72,
     "metadata": {},
     "output_type": "execute_result"
    }
   ],
   "source": [
    "len(flights_2008[flights_2008.SecurityDelay.isna()])"
   ]
  },
  {
   "cell_type": "markdown",
   "metadata": {},
   "source": [
    "### Code\n",
    "\n",
    "LateAircraftDelay – Missing for non-delayed flights"
   ]
  },
  {
   "cell_type": "code",
   "execution_count": 73,
   "metadata": {},
   "outputs": [
    {
     "data": {
      "text/plain": [
       "dtype('float64')"
      ]
     },
     "execution_count": 73,
     "metadata": {},
     "output_type": "execute_result"
    }
   ],
   "source": [
    "flights_2008.LateAircraftDelay.dtype"
   ]
  },
  {
   "cell_type": "code",
   "execution_count": 74,
   "metadata": {},
   "outputs": [],
   "source": [
    "flights_2008.LateAircraftDelay.fillna(value=0.0,inplace=True)"
   ]
  },
  {
   "cell_type": "markdown",
   "metadata": {},
   "source": [
    "### Test\n",
    "\n",
    "LateAircraftDelay – Missing for non-delayed flights"
   ]
  },
  {
   "cell_type": "code",
   "execution_count": 75,
   "metadata": {},
   "outputs": [
    {
     "data": {
      "text/plain": [
       "0"
      ]
     },
     "execution_count": 75,
     "metadata": {},
     "output_type": "execute_result"
    }
   ],
   "source": [
    "len(flights_2008[flights_2008.LateAircraftDelay.isna()])"
   ]
  },
  {
   "cell_type": "markdown",
   "metadata": {},
   "source": [
    "### Test\n",
    "\n",
    "Now that we have cleaned identified columns that contain NAN value, below code should return False for all columns except \"TailNum\" which we are going to delete later in the cleaning process."
   ]
  },
  {
   "cell_type": "code",
   "execution_count": 76,
   "metadata": {},
   "outputs": [
    {
     "data": {
      "text/plain": [
       "Year                 False\n",
       "Month                False\n",
       "DayofMonth           False\n",
       "DayOfWeek            False\n",
       "DepTime              False\n",
       "CRSDepTime           False\n",
       "ArrTime              False\n",
       "CRSArrTime           False\n",
       "UniqueCarrier        False\n",
       "FlightNum            False\n",
       "TailNum               True\n",
       "ActualElapsedTime    False\n",
       "CRSElapsedTime       False\n",
       "AirTime              False\n",
       "ArrDelay             False\n",
       "DepDelay             False\n",
       "Origin               False\n",
       "Dest                 False\n",
       "Distance             False\n",
       "TaxiIn               False\n",
       "TaxiOut              False\n",
       "Cancelled            False\n",
       "CancellationCode     False\n",
       "Diverted             False\n",
       "CarrierDelay         False\n",
       "WeatherDelay         False\n",
       "NASDelay             False\n",
       "SecurityDelay        False\n",
       "LateAircraftDelay    False\n",
       "dtype: bool"
      ]
     },
     "execution_count": 76,
     "metadata": {},
     "output_type": "execute_result"
    }
   ],
   "source": [
    "flights_2008.isna().any()"
   ]
  },
  {
   "cell_type": "markdown",
   "metadata": {},
   "source": [
    "### Code\n",
    "Below code also covers\n",
    "\n",
    "### Quality issues:\n",
    "2. Following columns are loaded as float64 instead of Time\n",
    "    * DepTime\n",
    "    * ArrTime\n",
    "3. Following columns are loaded as int64 instead of Time\n",
    "    * CRSDepTime\n",
    "    * CRSArrTime\n",
    "    \n",
    "### Tidiness issues:\n",
    "\n",
    "1. Year, Month and Day of Month are separate int64 attributes instead of Date. We will delete individual fields and create consolidated date time columns for CRSDep, CRSArr, Dep and Arr. There are some time fields with value 24:00 which should change date to next date.\n",
    "\n",
    "4. TailNum column will be deleted as we are not going to utilize this column in our analysis."
   ]
  },
  {
   "cell_type": "code",
   "execution_count": 77,
   "metadata": {},
   "outputs": [],
   "source": [
    "flights_2008['DepTime']=flights_2008.DepTime.astype(int).astype(str)"
   ]
  },
  {
   "cell_type": "code",
   "execution_count": 78,
   "metadata": {},
   "outputs": [
    {
     "data": {
      "text/plain": [
       "dtype('O')"
      ]
     },
     "execution_count": 78,
     "metadata": {},
     "output_type": "execute_result"
    }
   ],
   "source": [
    "flights_2008.DepTime.dtype"
   ]
  },
  {
   "cell_type": "code",
   "execution_count": 79,
   "metadata": {},
   "outputs": [
    {
     "data": {
      "text/plain": [
       "2083706"
      ]
     },
     "execution_count": 79,
     "metadata": {},
     "output_type": "execute_result"
    }
   ],
   "source": [
    "len(flights_2008[(flights_2008.DepTime.str.len() < 4)])"
   ]
  },
  {
   "cell_type": "code",
   "execution_count": 80,
   "metadata": {},
   "outputs": [],
   "source": [
    "flights_2008['DepTime']=flights_2008.DepTime.str.rjust(4,'0')"
   ]
  },
  {
   "cell_type": "code",
   "execution_count": 81,
   "metadata": {},
   "outputs": [
    {
     "data": {
      "text/plain": [
       "0"
      ]
     },
     "execution_count": 81,
     "metadata": {},
     "output_type": "execute_result"
    }
   ],
   "source": [
    "len(flights_2008[(flights_2008.DepTime.str.len() < 4)])"
   ]
  },
  {
   "cell_type": "code",
   "execution_count": 82,
   "metadata": {},
   "outputs": [],
   "source": [
    "flights_2008['DepTime']=flights_2008.DepTime.str[:2]+\":\"+flights_2008.DepTime.str[2:]"
   ]
  },
  {
   "cell_type": "code",
   "execution_count": 83,
   "metadata": {},
   "outputs": [],
   "source": [
    "flights_2008['ArrTime']=flights_2008.ArrTime.astype(int).astype(str)"
   ]
  },
  {
   "cell_type": "code",
   "execution_count": 84,
   "metadata": {},
   "outputs": [
    {
     "data": {
      "text/plain": [
       "dtype('O')"
      ]
     },
     "execution_count": 84,
     "metadata": {},
     "output_type": "execute_result"
    }
   ],
   "source": [
    "flights_2008.ArrTime.dtype"
   ]
  },
  {
   "cell_type": "code",
   "execution_count": 85,
   "metadata": {},
   "outputs": [
    {
     "data": {
      "text/plain": [
       "1373761"
      ]
     },
     "execution_count": 85,
     "metadata": {},
     "output_type": "execute_result"
    }
   ],
   "source": [
    "len(flights_2008[(flights_2008.ArrTime.str.len() < 4)])"
   ]
  },
  {
   "cell_type": "code",
   "execution_count": 86,
   "metadata": {},
   "outputs": [],
   "source": [
    "flights_2008['ArrTime']=flights_2008.ArrTime.str.rjust(4,'0')"
   ]
  },
  {
   "cell_type": "code",
   "execution_count": 87,
   "metadata": {},
   "outputs": [
    {
     "data": {
      "text/plain": [
       "0"
      ]
     },
     "execution_count": 87,
     "metadata": {},
     "output_type": "execute_result"
    }
   ],
   "source": [
    "len(flights_2008[(flights_2008.ArrTime.str.len() < 4)])"
   ]
  },
  {
   "cell_type": "code",
   "execution_count": 88,
   "metadata": {},
   "outputs": [],
   "source": [
    "flights_2008['ArrTime']=flights_2008.ArrTime.str[:2]+\":\"+flights_2008.ArrTime.str[2:]"
   ]
  },
  {
   "cell_type": "code",
   "execution_count": 89,
   "metadata": {},
   "outputs": [],
   "source": [
    "flights_2008['CRSDepTime']=flights_2008.CRSDepTime.astype(str)"
   ]
  },
  {
   "cell_type": "code",
   "execution_count": 90,
   "metadata": {},
   "outputs": [
    {
     "data": {
      "text/plain": [
       "dtype('O')"
      ]
     },
     "execution_count": 90,
     "metadata": {},
     "output_type": "execute_result"
    }
   ],
   "source": [
    "flights_2008.CRSDepTime.dtype"
   ]
  },
  {
   "cell_type": "code",
   "execution_count": 91,
   "metadata": {},
   "outputs": [
    {
     "data": {
      "text/plain": [
       "1987593"
      ]
     },
     "execution_count": 91,
     "metadata": {},
     "output_type": "execute_result"
    }
   ],
   "source": [
    "len(flights_2008[(flights_2008.CRSDepTime.str.len() < 4)])"
   ]
  },
  {
   "cell_type": "code",
   "execution_count": 92,
   "metadata": {},
   "outputs": [],
   "source": [
    "flights_2008['CRSDepTime']=flights_2008.CRSDepTime.str.rjust(4,'0')"
   ]
  },
  {
   "cell_type": "code",
   "execution_count": 93,
   "metadata": {},
   "outputs": [
    {
     "data": {
      "text/plain": [
       "0"
      ]
     },
     "execution_count": 93,
     "metadata": {},
     "output_type": "execute_result"
    }
   ],
   "source": [
    "len(flights_2008[(flights_2008.CRSDepTime.str.len() < 4)])"
   ]
  },
  {
   "cell_type": "code",
   "execution_count": 94,
   "metadata": {},
   "outputs": [],
   "source": [
    "flights_2008['CRSDepTime']=flights_2008.CRSDepTime.str[:2]+\":\"+flights_2008.CRSDepTime.str[2:]"
   ]
  },
  {
   "cell_type": "code",
   "execution_count": 95,
   "metadata": {},
   "outputs": [],
   "source": [
    "flights_2008['CRSArrTime']=flights_2008.CRSArrTime.astype(str)"
   ]
  },
  {
   "cell_type": "code",
   "execution_count": 96,
   "metadata": {},
   "outputs": [
    {
     "data": {
      "text/plain": [
       "dtype('O')"
      ]
     },
     "execution_count": 96,
     "metadata": {},
     "output_type": "execute_result"
    }
   ],
   "source": [
    "flights_2008.CRSArrTime.dtype"
   ]
  },
  {
   "cell_type": "code",
   "execution_count": 97,
   "metadata": {},
   "outputs": [
    {
     "data": {
      "text/plain": [
       "1169008"
      ]
     },
     "execution_count": 97,
     "metadata": {},
     "output_type": "execute_result"
    }
   ],
   "source": [
    "len(flights_2008[(flights_2008.CRSArrTime.str.len() < 4)])"
   ]
  },
  {
   "cell_type": "code",
   "execution_count": 98,
   "metadata": {},
   "outputs": [],
   "source": [
    "flights_2008['CRSArrTime']=flights_2008.CRSArrTime.str.rjust(4,'0')"
   ]
  },
  {
   "cell_type": "code",
   "execution_count": 99,
   "metadata": {},
   "outputs": [
    {
     "data": {
      "text/plain": [
       "0"
      ]
     },
     "execution_count": 99,
     "metadata": {},
     "output_type": "execute_result"
    }
   ],
   "source": [
    "len(flights_2008[(flights_2008.CRSArrTime.str.len() < 4)])"
   ]
  },
  {
   "cell_type": "code",
   "execution_count": 100,
   "metadata": {},
   "outputs": [],
   "source": [
    "flights_2008['CRSArrTime']=flights_2008.CRSArrTime.str[:2]+\":\"+flights_2008.CRSArrTime.str[2:]"
   ]
  },
  {
   "cell_type": "code",
   "execution_count": 101,
   "metadata": {},
   "outputs": [
    {
     "data": {
      "text/plain": [
       "(521, 2677)"
      ]
     },
     "execution_count": 101,
     "metadata": {},
     "output_type": "execute_result"
    }
   ],
   "source": [
    "len(flights_2008[flights_2008.DepTime=='24:00']),len(flights_2008[flights_2008.ArrTime=='24:00'])"
   ]
  },
  {
   "cell_type": "code",
   "execution_count": 102,
   "metadata": {},
   "outputs": [
    {
     "data": {
      "text/plain": [
       "(0, 547)"
      ]
     },
     "execution_count": 102,
     "metadata": {},
     "output_type": "execute_result"
    }
   ],
   "source": [
    "len(flights_2008[flights_2008.CRSDepTime=='24:00']),len(flights_2008[flights_2008.CRSArrTime=='24:00'])"
   ]
  },
  {
   "cell_type": "code",
   "execution_count": 103,
   "metadata": {},
   "outputs": [
    {
     "data": {
      "text/html": [
       "<div>\n",
       "<style scoped>\n",
       "    .dataframe tbody tr th:only-of-type {\n",
       "        vertical-align: middle;\n",
       "    }\n",
       "\n",
       "    .dataframe tbody tr th {\n",
       "        vertical-align: top;\n",
       "    }\n",
       "\n",
       "    .dataframe thead th {\n",
       "        text-align: right;\n",
       "    }\n",
       "</style>\n",
       "<table border=\"1\" class=\"dataframe\">\n",
       "  <thead>\n",
       "    <tr style=\"text-align: right;\">\n",
       "      <th></th>\n",
       "      <th>Year</th>\n",
       "      <th>Month</th>\n",
       "      <th>DayofMonth</th>\n",
       "      <th>DayOfWeek</th>\n",
       "      <th>DepTime</th>\n",
       "      <th>CRSDepTime</th>\n",
       "      <th>ArrTime</th>\n",
       "      <th>CRSArrTime</th>\n",
       "      <th>UniqueCarrier</th>\n",
       "      <th>FlightNum</th>\n",
       "      <th>...</th>\n",
       "      <th>TaxiIn</th>\n",
       "      <th>TaxiOut</th>\n",
       "      <th>Cancelled</th>\n",
       "      <th>CancellationCode</th>\n",
       "      <th>Diverted</th>\n",
       "      <th>CarrierDelay</th>\n",
       "      <th>WeatherDelay</th>\n",
       "      <th>NASDelay</th>\n",
       "      <th>SecurityDelay</th>\n",
       "      <th>LateAircraftDelay</th>\n",
       "    </tr>\n",
       "  </thead>\n",
       "  <tbody>\n",
       "  </tbody>\n",
       "</table>\n",
       "<p>0 rows × 29 columns</p>\n",
       "</div>"
      ],
      "text/plain": [
       "Empty DataFrame\n",
       "Columns: [Year, Month, DayofMonth, DayOfWeek, DepTime, CRSDepTime, ArrTime, CRSArrTime, UniqueCarrier, FlightNum, TailNum, ActualElapsedTime, CRSElapsedTime, AirTime, ArrDelay, DepDelay, Origin, Dest, Distance, TaxiIn, TaxiOut, Cancelled, CancellationCode, Diverted, CarrierDelay, WeatherDelay, NASDelay, SecurityDelay, LateAircraftDelay]\n",
       "Index: []\n",
       "\n",
       "[0 rows x 29 columns]"
      ]
     },
     "execution_count": 103,
     "metadata": {},
     "output_type": "execute_result"
    }
   ],
   "source": [
    "flights_2008[(flights_2008.DepTime=='24:00')&(flights_2008.ArrTime=='24:00')&(flights_2008.CRSArrTime=='24:00')]"
   ]
  },
  {
   "cell_type": "code",
   "execution_count": 104,
   "metadata": {},
   "outputs": [],
   "source": [
    "flights_2008['DepTimeDate'] = pd.to_datetime(flights_2008.Year.astype(str) +\"-\"+flights_2008.Month.astype(str)+\"-\"+flights_2008.DayofMonth.astype(str))"
   ]
  },
  {
   "cell_type": "code",
   "execution_count": 105,
   "metadata": {},
   "outputs": [],
   "source": [
    "flights_2008['ArrTimeDate'] = flights_2008['DepTimeDate']\n",
    "flights_2008['CRSArrTimeDate'] = flights_2008['DepTimeDate']\n",
    "flights_2008['CRSDepTimeDate'] = flights_2008['DepTimeDate']"
   ]
  },
  {
   "cell_type": "code",
   "execution_count": 106,
   "metadata": {},
   "outputs": [],
   "source": [
    "flights_2008['DepTimeDate'] = flights_2008[flights_2008.DepTime=='24:00'].DepTimeDate+ datetime.timedelta(days=1)"
   ]
  },
  {
   "cell_type": "code",
   "execution_count": 107,
   "metadata": {},
   "outputs": [
    {
     "data": {
      "text/plain": [
       "7009207"
      ]
     },
     "execution_count": 107,
     "metadata": {},
     "output_type": "execute_result"
    }
   ],
   "source": [
    "len(flights_2008[flights_2008.DepTimeDate.isna()])"
   ]
  },
  {
   "cell_type": "code",
   "execution_count": 108,
   "metadata": {},
   "outputs": [],
   "source": [
    "flights_2008.DepTimeDate.fillna(flights_2008.ArrTimeDate,inplace=True)"
   ]
  },
  {
   "cell_type": "code",
   "execution_count": 109,
   "metadata": {},
   "outputs": [
    {
     "data": {
      "text/plain": [
       "0"
      ]
     },
     "execution_count": 109,
     "metadata": {},
     "output_type": "execute_result"
    }
   ],
   "source": [
    "len(flights_2008[flights_2008.DepTimeDate.isna()])"
   ]
  },
  {
   "cell_type": "code",
   "execution_count": 110,
   "metadata": {},
   "outputs": [],
   "source": [
    "flights_2008['ArrTimeDate'] =flights_2008[flights_2008.ArrTime=='24:00'].ArrTimeDate+ datetime.timedelta(days=1)"
   ]
  },
  {
   "cell_type": "code",
   "execution_count": 111,
   "metadata": {},
   "outputs": [
    {
     "data": {
      "text/plain": [
       "7007051"
      ]
     },
     "execution_count": 111,
     "metadata": {},
     "output_type": "execute_result"
    }
   ],
   "source": [
    "len(flights_2008[flights_2008.ArrTimeDate.isna()])"
   ]
  },
  {
   "cell_type": "code",
   "execution_count": 112,
   "metadata": {},
   "outputs": [],
   "source": [
    "flights_2008.ArrTimeDate.fillna(flights_2008.DepTimeDate,inplace=True)"
   ]
  },
  {
   "cell_type": "code",
   "execution_count": 113,
   "metadata": {},
   "outputs": [
    {
     "data": {
      "text/plain": [
       "0"
      ]
     },
     "execution_count": 113,
     "metadata": {},
     "output_type": "execute_result"
    }
   ],
   "source": [
    "len(flights_2008[flights_2008.ArrTimeDate.isna()])"
   ]
  },
  {
   "cell_type": "code",
   "execution_count": 114,
   "metadata": {},
   "outputs": [],
   "source": [
    "flights_2008['CRSArrTimeDate'] =flights_2008[flights_2008.CRSArrTime=='24:00'].CRSArrTimeDate+ datetime.timedelta(days=1)"
   ]
  },
  {
   "cell_type": "code",
   "execution_count": 115,
   "metadata": {},
   "outputs": [
    {
     "data": {
      "text/plain": [
       "7009181"
      ]
     },
     "execution_count": 115,
     "metadata": {},
     "output_type": "execute_result"
    }
   ],
   "source": [
    "len(flights_2008[flights_2008.CRSArrTimeDate.isna()])"
   ]
  },
  {
   "cell_type": "code",
   "execution_count": 116,
   "metadata": {},
   "outputs": [],
   "source": [
    "flights_2008.CRSArrTimeDate.fillna(flights_2008.DepTimeDate,inplace=True)"
   ]
  },
  {
   "cell_type": "code",
   "execution_count": 117,
   "metadata": {},
   "outputs": [
    {
     "data": {
      "text/plain": [
       "0"
      ]
     },
     "execution_count": 117,
     "metadata": {},
     "output_type": "execute_result"
    }
   ],
   "source": [
    "len(flights_2008[flights_2008.CRSArrTimeDate.isna()])"
   ]
  },
  {
   "cell_type": "code",
   "execution_count": 118,
   "metadata": {},
   "outputs": [],
   "source": [
    "flights_2008.DepTime.replace(\"24:00\",\"00:00\",inplace=True);\n",
    "flights_2008.CRSDepTime.replace(\"24:00\",\"00:00\",inplace=True);\n",
    "flights_2008.ArrTime.replace(\"24:00\",\"00:00\",inplace=True);\n",
    "flights_2008.CRSArrTime.replace(\"24:00\",\"00:00\",inplace=True);"
   ]
  },
  {
   "cell_type": "code",
   "execution_count": 119,
   "metadata": {},
   "outputs": [],
   "source": [
    "flights_2008['DepDateTime']=pd.to_datetime(flights_2008.DepTimeDate.astype(str)+\" \"+flights_2008.DepTime);"
   ]
  },
  {
   "cell_type": "code",
   "execution_count": 120,
   "metadata": {},
   "outputs": [],
   "source": [
    "flights_2008['CRSDepDateTime']=pd.to_datetime(flights_2008.CRSDepTimeDate.astype(str)+\" \"+flights_2008.CRSDepTime);"
   ]
  },
  {
   "cell_type": "code",
   "execution_count": 121,
   "metadata": {},
   "outputs": [],
   "source": [
    "flights_2008['ArrDateTime']=pd.to_datetime(flights_2008.ArrTimeDate.astype(str)+\" \"+flights_2008.ArrTime);"
   ]
  },
  {
   "cell_type": "code",
   "execution_count": 122,
   "metadata": {},
   "outputs": [],
   "source": [
    "flights_2008['CRSArrDateTime']=pd.to_datetime(flights_2008.CRSArrTimeDate.astype(str)+\" \"+flights_2008.CRSArrTime);"
   ]
  },
  {
   "cell_type": "code",
   "execution_count": 123,
   "metadata": {},
   "outputs": [],
   "source": [
    "col_del_list = ['Year','Month','DayofMonth','DepTime','CRSDepTime','ArrTime','CRSArrTime','TailNum','DepTimeDate','ArrTimeDate','CRSArrTimeDate','CRSDepTimeDate']"
   ]
  },
  {
   "cell_type": "code",
   "execution_count": 124,
   "metadata": {},
   "outputs": [],
   "source": [
    "flights_2008.drop(col_del_list,axis=1,inplace=True)"
   ]
  },
  {
   "cell_type": "markdown",
   "metadata": {},
   "source": [
    "## Test"
   ]
  },
  {
   "cell_type": "code",
   "execution_count": 125,
   "metadata": {},
   "outputs": [
    {
     "name": "stdout",
     "output_type": "stream",
     "text": [
      "<class 'pandas.core.frame.DataFrame'>\n",
      "RangeIndex: 7009728 entries, 0 to 7009727\n",
      "Data columns (total 25 columns):\n",
      "DayOfWeek            int64\n",
      "UniqueCarrier        object\n",
      "FlightNum            int64\n",
      "ActualElapsedTime    float64\n",
      "CRSElapsedTime       float64\n",
      "AirTime              float64\n",
      "ArrDelay             float64\n",
      "DepDelay             float64\n",
      "Origin               object\n",
      "Dest                 object\n",
      "Distance             int64\n",
      "TaxiIn               float64\n",
      "TaxiOut              float64\n",
      "Cancelled            int64\n",
      "CancellationCode     object\n",
      "Diverted             int64\n",
      "CarrierDelay         float64\n",
      "WeatherDelay         float64\n",
      "NASDelay             float64\n",
      "SecurityDelay        float64\n",
      "LateAircraftDelay    float64\n",
      "DepDateTime          datetime64[ns]\n",
      "CRSDepDateTime       datetime64[ns]\n",
      "ArrDateTime          datetime64[ns]\n",
      "CRSArrDateTime       datetime64[ns]\n",
      "dtypes: datetime64[ns](4), float64(12), int64(5), object(4)\n",
      "memory usage: 1.3+ GB\n"
     ]
    }
   ],
   "source": [
    "flights_2008.info()"
   ]
  },
  {
   "cell_type": "code",
   "execution_count": 126,
   "metadata": {},
   "outputs": [
    {
     "data": {
      "text/plain": [
       "DayOfWeek            False\n",
       "UniqueCarrier        False\n",
       "FlightNum            False\n",
       "ActualElapsedTime    False\n",
       "CRSElapsedTime       False\n",
       "AirTime              False\n",
       "ArrDelay             False\n",
       "DepDelay             False\n",
       "Origin               False\n",
       "Dest                 False\n",
       "Distance             False\n",
       "TaxiIn               False\n",
       "TaxiOut              False\n",
       "Cancelled            False\n",
       "CancellationCode     False\n",
       "Diverted             False\n",
       "CarrierDelay         False\n",
       "WeatherDelay         False\n",
       "NASDelay             False\n",
       "SecurityDelay        False\n",
       "LateAircraftDelay    False\n",
       "DepDateTime          False\n",
       "CRSDepDateTime       False\n",
       "ArrDateTime          False\n",
       "CRSArrDateTime       False\n",
       "dtype: bool"
      ]
     },
     "execution_count": 126,
     "metadata": {},
     "output_type": "execute_result"
    }
   ],
   "source": [
    "flights_2008.isna().any()"
   ]
  },
  {
   "cell_type": "code",
   "execution_count": 127,
   "metadata": {},
   "outputs": [
    {
     "data": {
      "text/html": [
       "<div>\n",
       "<style scoped>\n",
       "    .dataframe tbody tr th:only-of-type {\n",
       "        vertical-align: middle;\n",
       "    }\n",
       "\n",
       "    .dataframe tbody tr th {\n",
       "        vertical-align: top;\n",
       "    }\n",
       "\n",
       "    .dataframe thead th {\n",
       "        text-align: right;\n",
       "    }\n",
       "</style>\n",
       "<table border=\"1\" class=\"dataframe\">\n",
       "  <thead>\n",
       "    <tr style=\"text-align: right;\">\n",
       "      <th></th>\n",
       "      <th>DayOfWeek</th>\n",
       "      <th>UniqueCarrier</th>\n",
       "      <th>FlightNum</th>\n",
       "      <th>ActualElapsedTime</th>\n",
       "      <th>CRSElapsedTime</th>\n",
       "      <th>AirTime</th>\n",
       "      <th>ArrDelay</th>\n",
       "      <th>DepDelay</th>\n",
       "      <th>Origin</th>\n",
       "      <th>Dest</th>\n",
       "      <th>...</th>\n",
       "      <th>Diverted</th>\n",
       "      <th>CarrierDelay</th>\n",
       "      <th>WeatherDelay</th>\n",
       "      <th>NASDelay</th>\n",
       "      <th>SecurityDelay</th>\n",
       "      <th>LateAircraftDelay</th>\n",
       "      <th>DepDateTime</th>\n",
       "      <th>CRSDepDateTime</th>\n",
       "      <th>ArrDateTime</th>\n",
       "      <th>CRSArrDateTime</th>\n",
       "    </tr>\n",
       "  </thead>\n",
       "  <tbody>\n",
       "    <tr>\n",
       "      <th>0</th>\n",
       "      <td>4</td>\n",
       "      <td>WN</td>\n",
       "      <td>335</td>\n",
       "      <td>128.0</td>\n",
       "      <td>150.0</td>\n",
       "      <td>116.0</td>\n",
       "      <td>-14.0</td>\n",
       "      <td>8.0</td>\n",
       "      <td>IAD</td>\n",
       "      <td>TPA</td>\n",
       "      <td>...</td>\n",
       "      <td>0</td>\n",
       "      <td>0.0</td>\n",
       "      <td>0.0</td>\n",
       "      <td>0.0</td>\n",
       "      <td>0.0</td>\n",
       "      <td>0.0</td>\n",
       "      <td>2008-01-03 20:03:00</td>\n",
       "      <td>2008-01-03 19:55:00</td>\n",
       "      <td>2008-01-03 22:11:00</td>\n",
       "      <td>2008-01-03 22:25:00</td>\n",
       "    </tr>\n",
       "    <tr>\n",
       "      <th>1</th>\n",
       "      <td>4</td>\n",
       "      <td>WN</td>\n",
       "      <td>3231</td>\n",
       "      <td>128.0</td>\n",
       "      <td>145.0</td>\n",
       "      <td>113.0</td>\n",
       "      <td>2.0</td>\n",
       "      <td>19.0</td>\n",
       "      <td>IAD</td>\n",
       "      <td>TPA</td>\n",
       "      <td>...</td>\n",
       "      <td>0</td>\n",
       "      <td>0.0</td>\n",
       "      <td>0.0</td>\n",
       "      <td>0.0</td>\n",
       "      <td>0.0</td>\n",
       "      <td>0.0</td>\n",
       "      <td>2008-01-03 07:54:00</td>\n",
       "      <td>2008-01-03 07:35:00</td>\n",
       "      <td>2008-01-03 10:02:00</td>\n",
       "      <td>2008-01-03 10:00:00</td>\n",
       "    </tr>\n",
       "    <tr>\n",
       "      <th>2</th>\n",
       "      <td>4</td>\n",
       "      <td>WN</td>\n",
       "      <td>448</td>\n",
       "      <td>96.0</td>\n",
       "      <td>90.0</td>\n",
       "      <td>76.0</td>\n",
       "      <td>14.0</td>\n",
       "      <td>8.0</td>\n",
       "      <td>IND</td>\n",
       "      <td>BWI</td>\n",
       "      <td>...</td>\n",
       "      <td>0</td>\n",
       "      <td>0.0</td>\n",
       "      <td>0.0</td>\n",
       "      <td>0.0</td>\n",
       "      <td>0.0</td>\n",
       "      <td>0.0</td>\n",
       "      <td>2008-01-03 06:28:00</td>\n",
       "      <td>2008-01-03 06:20:00</td>\n",
       "      <td>2008-01-03 08:04:00</td>\n",
       "      <td>2008-01-03 07:50:00</td>\n",
       "    </tr>\n",
       "    <tr>\n",
       "      <th>3</th>\n",
       "      <td>4</td>\n",
       "      <td>WN</td>\n",
       "      <td>1746</td>\n",
       "      <td>88.0</td>\n",
       "      <td>90.0</td>\n",
       "      <td>78.0</td>\n",
       "      <td>-6.0</td>\n",
       "      <td>-4.0</td>\n",
       "      <td>IND</td>\n",
       "      <td>BWI</td>\n",
       "      <td>...</td>\n",
       "      <td>0</td>\n",
       "      <td>0.0</td>\n",
       "      <td>0.0</td>\n",
       "      <td>0.0</td>\n",
       "      <td>0.0</td>\n",
       "      <td>0.0</td>\n",
       "      <td>2008-01-03 09:26:00</td>\n",
       "      <td>2008-01-03 09:30:00</td>\n",
       "      <td>2008-01-03 10:54:00</td>\n",
       "      <td>2008-01-03 11:00:00</td>\n",
       "    </tr>\n",
       "    <tr>\n",
       "      <th>4</th>\n",
       "      <td>4</td>\n",
       "      <td>WN</td>\n",
       "      <td>3920</td>\n",
       "      <td>90.0</td>\n",
       "      <td>90.0</td>\n",
       "      <td>77.0</td>\n",
       "      <td>34.0</td>\n",
       "      <td>34.0</td>\n",
       "      <td>IND</td>\n",
       "      <td>BWI</td>\n",
       "      <td>...</td>\n",
       "      <td>0</td>\n",
       "      <td>2.0</td>\n",
       "      <td>0.0</td>\n",
       "      <td>0.0</td>\n",
       "      <td>0.0</td>\n",
       "      <td>32.0</td>\n",
       "      <td>2008-01-03 18:29:00</td>\n",
       "      <td>2008-01-03 17:55:00</td>\n",
       "      <td>2008-01-03 19:59:00</td>\n",
       "      <td>2008-01-03 19:25:00</td>\n",
       "    </tr>\n",
       "  </tbody>\n",
       "</table>\n",
       "<p>5 rows × 25 columns</p>\n",
       "</div>"
      ],
      "text/plain": [
       "   DayOfWeek UniqueCarrier  FlightNum  ActualElapsedTime  CRSElapsedTime  \\\n",
       "0          4            WN        335              128.0           150.0   \n",
       "1          4            WN       3231              128.0           145.0   \n",
       "2          4            WN        448               96.0            90.0   \n",
       "3          4            WN       1746               88.0            90.0   \n",
       "4          4            WN       3920               90.0            90.0   \n",
       "\n",
       "   AirTime  ArrDelay  DepDelay Origin Dest         ...          Diverted  \\\n",
       "0    116.0     -14.0       8.0    IAD  TPA         ...                 0   \n",
       "1    113.0       2.0      19.0    IAD  TPA         ...                 0   \n",
       "2     76.0      14.0       8.0    IND  BWI         ...                 0   \n",
       "3     78.0      -6.0      -4.0    IND  BWI         ...                 0   \n",
       "4     77.0      34.0      34.0    IND  BWI         ...                 0   \n",
       "\n",
       "   CarrierDelay  WeatherDelay  NASDelay SecurityDelay  LateAircraftDelay  \\\n",
       "0           0.0           0.0       0.0           0.0                0.0   \n",
       "1           0.0           0.0       0.0           0.0                0.0   \n",
       "2           0.0           0.0       0.0           0.0                0.0   \n",
       "3           0.0           0.0       0.0           0.0                0.0   \n",
       "4           2.0           0.0       0.0           0.0               32.0   \n",
       "\n",
       "          DepDateTime      CRSDepDateTime         ArrDateTime  \\\n",
       "0 2008-01-03 20:03:00 2008-01-03 19:55:00 2008-01-03 22:11:00   \n",
       "1 2008-01-03 07:54:00 2008-01-03 07:35:00 2008-01-03 10:02:00   \n",
       "2 2008-01-03 06:28:00 2008-01-03 06:20:00 2008-01-03 08:04:00   \n",
       "3 2008-01-03 09:26:00 2008-01-03 09:30:00 2008-01-03 10:54:00   \n",
       "4 2008-01-03 18:29:00 2008-01-03 17:55:00 2008-01-03 19:59:00   \n",
       "\n",
       "       CRSArrDateTime  \n",
       "0 2008-01-03 22:25:00  \n",
       "1 2008-01-03 10:00:00  \n",
       "2 2008-01-03 07:50:00  \n",
       "3 2008-01-03 11:00:00  \n",
       "4 2008-01-03 19:25:00  \n",
       "\n",
       "[5 rows x 25 columns]"
      ]
     },
     "execution_count": 127,
     "metadata": {},
     "output_type": "execute_result"
    }
   ],
   "source": [
    "flights_2008.head()"
   ]
  },
  {
   "cell_type": "markdown",
   "metadata": {},
   "source": [
    "## Code\n",
    "\n",
    "### Quality issues:\n",
    "\n",
    "4. Following columns are loaded as int64 instead of Boolean\n",
    "    * Cancelled\n",
    "    * Diverted\n"
   ]
  },
  {
   "cell_type": "code",
   "execution_count": 128,
   "metadata": {},
   "outputs": [
    {
     "data": {
      "text/plain": [
       "dtype('int64')"
      ]
     },
     "execution_count": 128,
     "metadata": {},
     "output_type": "execute_result"
    }
   ],
   "source": [
    "flights_2008.Cancelled.dtype"
   ]
  },
  {
   "cell_type": "code",
   "execution_count": 129,
   "metadata": {},
   "outputs": [
    {
     "data": {
      "text/plain": [
       "dtype('int64')"
      ]
     },
     "execution_count": 129,
     "metadata": {},
     "output_type": "execute_result"
    }
   ],
   "source": [
    "flights_2008.Diverted.dtype"
   ]
  },
  {
   "cell_type": "code",
   "execution_count": 130,
   "metadata": {},
   "outputs": [],
   "source": [
    "flights_2008['Cancelled']=flights_2008.Cancelled.astype(bool)"
   ]
  },
  {
   "cell_type": "code",
   "execution_count": 131,
   "metadata": {},
   "outputs": [],
   "source": [
    "flights_2008['Diverted']=flights_2008.Diverted.astype(bool)"
   ]
  },
  {
   "cell_type": "markdown",
   "metadata": {},
   "source": [
    "## Test"
   ]
  },
  {
   "cell_type": "code",
   "execution_count": 132,
   "metadata": {},
   "outputs": [
    {
     "data": {
      "text/plain": [
       "dtype('bool')"
      ]
     },
     "execution_count": 132,
     "metadata": {},
     "output_type": "execute_result"
    }
   ],
   "source": [
    "flights_2008.Cancelled.dtype"
   ]
  },
  {
   "cell_type": "code",
   "execution_count": 133,
   "metadata": {},
   "outputs": [
    {
     "data": {
      "text/plain": [
       "dtype('bool')"
      ]
     },
     "execution_count": 133,
     "metadata": {},
     "output_type": "execute_result"
    }
   ],
   "source": [
    "flights_2008.Diverted.dtype"
   ]
  },
  {
   "cell_type": "code",
   "execution_count": 134,
   "metadata": {},
   "outputs": [
    {
     "data": {
      "text/html": [
       "<div>\n",
       "<style scoped>\n",
       "    .dataframe tbody tr th:only-of-type {\n",
       "        vertical-align: middle;\n",
       "    }\n",
       "\n",
       "    .dataframe tbody tr th {\n",
       "        vertical-align: top;\n",
       "    }\n",
       "\n",
       "    .dataframe thead th {\n",
       "        text-align: right;\n",
       "    }\n",
       "</style>\n",
       "<table border=\"1\" class=\"dataframe\">\n",
       "  <thead>\n",
       "    <tr style=\"text-align: right;\">\n",
       "      <th></th>\n",
       "      <th>Cancelled</th>\n",
       "      <th>Diverted</th>\n",
       "    </tr>\n",
       "  </thead>\n",
       "  <tbody>\n",
       "    <tr>\n",
       "      <th>0</th>\n",
       "      <td>False</td>\n",
       "      <td>False</td>\n",
       "    </tr>\n",
       "    <tr>\n",
       "      <th>1</th>\n",
       "      <td>False</td>\n",
       "      <td>False</td>\n",
       "    </tr>\n",
       "    <tr>\n",
       "      <th>2</th>\n",
       "      <td>False</td>\n",
       "      <td>False</td>\n",
       "    </tr>\n",
       "    <tr>\n",
       "      <th>3</th>\n",
       "      <td>False</td>\n",
       "      <td>False</td>\n",
       "    </tr>\n",
       "    <tr>\n",
       "      <th>4</th>\n",
       "      <td>False</td>\n",
       "      <td>False</td>\n",
       "    </tr>\n",
       "  </tbody>\n",
       "</table>\n",
       "</div>"
      ],
      "text/plain": [
       "   Cancelled  Diverted\n",
       "0      False     False\n",
       "1      False     False\n",
       "2      False     False\n",
       "3      False     False\n",
       "4      False     False"
      ]
     },
     "execution_count": 134,
     "metadata": {},
     "output_type": "execute_result"
    }
   ],
   "source": [
    "flights_2008[['Cancelled','Diverted']].head()"
   ]
  },
  {
   "cell_type": "markdown",
   "metadata": {},
   "source": [
    "## Code\n",
    "\n",
    "We will create a new column Route of type object which is a Origin + “-“ + Dest."
   ]
  },
  {
   "cell_type": "code",
   "execution_count": 135,
   "metadata": {},
   "outputs": [],
   "source": [
    "flights_2008['Route'] = flights_2008.Origin +\" - \"+flights_2008.Dest"
   ]
  },
  {
   "cell_type": "markdown",
   "metadata": {},
   "source": [
    "## Test"
   ]
  },
  {
   "cell_type": "code",
   "execution_count": 136,
   "metadata": {},
   "outputs": [
    {
     "data": {
      "text/html": [
       "<div>\n",
       "<style scoped>\n",
       "    .dataframe tbody tr th:only-of-type {\n",
       "        vertical-align: middle;\n",
       "    }\n",
       "\n",
       "    .dataframe tbody tr th {\n",
       "        vertical-align: top;\n",
       "    }\n",
       "\n",
       "    .dataframe thead th {\n",
       "        text-align: right;\n",
       "    }\n",
       "</style>\n",
       "<table border=\"1\" class=\"dataframe\">\n",
       "  <thead>\n",
       "    <tr style=\"text-align: right;\">\n",
       "      <th></th>\n",
       "      <th>DayOfWeek</th>\n",
       "      <th>UniqueCarrier</th>\n",
       "      <th>FlightNum</th>\n",
       "      <th>ActualElapsedTime</th>\n",
       "      <th>CRSElapsedTime</th>\n",
       "      <th>AirTime</th>\n",
       "      <th>ArrDelay</th>\n",
       "      <th>DepDelay</th>\n",
       "      <th>Origin</th>\n",
       "      <th>Dest</th>\n",
       "      <th>...</th>\n",
       "      <th>CarrierDelay</th>\n",
       "      <th>WeatherDelay</th>\n",
       "      <th>NASDelay</th>\n",
       "      <th>SecurityDelay</th>\n",
       "      <th>LateAircraftDelay</th>\n",
       "      <th>DepDateTime</th>\n",
       "      <th>CRSDepDateTime</th>\n",
       "      <th>ArrDateTime</th>\n",
       "      <th>CRSArrDateTime</th>\n",
       "      <th>Route</th>\n",
       "    </tr>\n",
       "  </thead>\n",
       "  <tbody>\n",
       "    <tr>\n",
       "      <th>0</th>\n",
       "      <td>4</td>\n",
       "      <td>WN</td>\n",
       "      <td>335</td>\n",
       "      <td>128.0</td>\n",
       "      <td>150.0</td>\n",
       "      <td>116.0</td>\n",
       "      <td>-14.0</td>\n",
       "      <td>8.0</td>\n",
       "      <td>IAD</td>\n",
       "      <td>TPA</td>\n",
       "      <td>...</td>\n",
       "      <td>0.0</td>\n",
       "      <td>0.0</td>\n",
       "      <td>0.0</td>\n",
       "      <td>0.0</td>\n",
       "      <td>0.0</td>\n",
       "      <td>2008-01-03 20:03:00</td>\n",
       "      <td>2008-01-03 19:55:00</td>\n",
       "      <td>2008-01-03 22:11:00</td>\n",
       "      <td>2008-01-03 22:25:00</td>\n",
       "      <td>IAD - TPA</td>\n",
       "    </tr>\n",
       "    <tr>\n",
       "      <th>1</th>\n",
       "      <td>4</td>\n",
       "      <td>WN</td>\n",
       "      <td>3231</td>\n",
       "      <td>128.0</td>\n",
       "      <td>145.0</td>\n",
       "      <td>113.0</td>\n",
       "      <td>2.0</td>\n",
       "      <td>19.0</td>\n",
       "      <td>IAD</td>\n",
       "      <td>TPA</td>\n",
       "      <td>...</td>\n",
       "      <td>0.0</td>\n",
       "      <td>0.0</td>\n",
       "      <td>0.0</td>\n",
       "      <td>0.0</td>\n",
       "      <td>0.0</td>\n",
       "      <td>2008-01-03 07:54:00</td>\n",
       "      <td>2008-01-03 07:35:00</td>\n",
       "      <td>2008-01-03 10:02:00</td>\n",
       "      <td>2008-01-03 10:00:00</td>\n",
       "      <td>IAD - TPA</td>\n",
       "    </tr>\n",
       "    <tr>\n",
       "      <th>2</th>\n",
       "      <td>4</td>\n",
       "      <td>WN</td>\n",
       "      <td>448</td>\n",
       "      <td>96.0</td>\n",
       "      <td>90.0</td>\n",
       "      <td>76.0</td>\n",
       "      <td>14.0</td>\n",
       "      <td>8.0</td>\n",
       "      <td>IND</td>\n",
       "      <td>BWI</td>\n",
       "      <td>...</td>\n",
       "      <td>0.0</td>\n",
       "      <td>0.0</td>\n",
       "      <td>0.0</td>\n",
       "      <td>0.0</td>\n",
       "      <td>0.0</td>\n",
       "      <td>2008-01-03 06:28:00</td>\n",
       "      <td>2008-01-03 06:20:00</td>\n",
       "      <td>2008-01-03 08:04:00</td>\n",
       "      <td>2008-01-03 07:50:00</td>\n",
       "      <td>IND - BWI</td>\n",
       "    </tr>\n",
       "    <tr>\n",
       "      <th>3</th>\n",
       "      <td>4</td>\n",
       "      <td>WN</td>\n",
       "      <td>1746</td>\n",
       "      <td>88.0</td>\n",
       "      <td>90.0</td>\n",
       "      <td>78.0</td>\n",
       "      <td>-6.0</td>\n",
       "      <td>-4.0</td>\n",
       "      <td>IND</td>\n",
       "      <td>BWI</td>\n",
       "      <td>...</td>\n",
       "      <td>0.0</td>\n",
       "      <td>0.0</td>\n",
       "      <td>0.0</td>\n",
       "      <td>0.0</td>\n",
       "      <td>0.0</td>\n",
       "      <td>2008-01-03 09:26:00</td>\n",
       "      <td>2008-01-03 09:30:00</td>\n",
       "      <td>2008-01-03 10:54:00</td>\n",
       "      <td>2008-01-03 11:00:00</td>\n",
       "      <td>IND - BWI</td>\n",
       "    </tr>\n",
       "    <tr>\n",
       "      <th>4</th>\n",
       "      <td>4</td>\n",
       "      <td>WN</td>\n",
       "      <td>3920</td>\n",
       "      <td>90.0</td>\n",
       "      <td>90.0</td>\n",
       "      <td>77.0</td>\n",
       "      <td>34.0</td>\n",
       "      <td>34.0</td>\n",
       "      <td>IND</td>\n",
       "      <td>BWI</td>\n",
       "      <td>...</td>\n",
       "      <td>2.0</td>\n",
       "      <td>0.0</td>\n",
       "      <td>0.0</td>\n",
       "      <td>0.0</td>\n",
       "      <td>32.0</td>\n",
       "      <td>2008-01-03 18:29:00</td>\n",
       "      <td>2008-01-03 17:55:00</td>\n",
       "      <td>2008-01-03 19:59:00</td>\n",
       "      <td>2008-01-03 19:25:00</td>\n",
       "      <td>IND - BWI</td>\n",
       "    </tr>\n",
       "  </tbody>\n",
       "</table>\n",
       "<p>5 rows × 26 columns</p>\n",
       "</div>"
      ],
      "text/plain": [
       "   DayOfWeek UniqueCarrier  FlightNum  ActualElapsedTime  CRSElapsedTime  \\\n",
       "0          4            WN        335              128.0           150.0   \n",
       "1          4            WN       3231              128.0           145.0   \n",
       "2          4            WN        448               96.0            90.0   \n",
       "3          4            WN       1746               88.0            90.0   \n",
       "4          4            WN       3920               90.0            90.0   \n",
       "\n",
       "   AirTime  ArrDelay  DepDelay Origin Dest    ...      CarrierDelay  \\\n",
       "0    116.0     -14.0       8.0    IAD  TPA    ...               0.0   \n",
       "1    113.0       2.0      19.0    IAD  TPA    ...               0.0   \n",
       "2     76.0      14.0       8.0    IND  BWI    ...               0.0   \n",
       "3     78.0      -6.0      -4.0    IND  BWI    ...               0.0   \n",
       "4     77.0      34.0      34.0    IND  BWI    ...               2.0   \n",
       "\n",
       "   WeatherDelay  NASDelay  SecurityDelay LateAircraftDelay  \\\n",
       "0           0.0       0.0            0.0               0.0   \n",
       "1           0.0       0.0            0.0               0.0   \n",
       "2           0.0       0.0            0.0               0.0   \n",
       "3           0.0       0.0            0.0               0.0   \n",
       "4           0.0       0.0            0.0              32.0   \n",
       "\n",
       "          DepDateTime      CRSDepDateTime         ArrDateTime  \\\n",
       "0 2008-01-03 20:03:00 2008-01-03 19:55:00 2008-01-03 22:11:00   \n",
       "1 2008-01-03 07:54:00 2008-01-03 07:35:00 2008-01-03 10:02:00   \n",
       "2 2008-01-03 06:28:00 2008-01-03 06:20:00 2008-01-03 08:04:00   \n",
       "3 2008-01-03 09:26:00 2008-01-03 09:30:00 2008-01-03 10:54:00   \n",
       "4 2008-01-03 18:29:00 2008-01-03 17:55:00 2008-01-03 19:59:00   \n",
       "\n",
       "       CRSArrDateTime      Route  \n",
       "0 2008-01-03 22:25:00  IAD - TPA  \n",
       "1 2008-01-03 10:00:00  IAD - TPA  \n",
       "2 2008-01-03 07:50:00  IND - BWI  \n",
       "3 2008-01-03 11:00:00  IND - BWI  \n",
       "4 2008-01-03 19:25:00  IND - BWI  \n",
       "\n",
       "[5 rows x 26 columns]"
      ]
     },
     "execution_count": 136,
     "metadata": {},
     "output_type": "execute_result"
    }
   ],
   "source": [
    "flights_2008.head()"
   ]
  },
  {
   "cell_type": "markdown",
   "metadata": {},
   "source": [
    "## Code\n",
    "\n",
    "5. Change Carrier, Origin and Dest to Categorical."
   ]
  },
  {
   "cell_type": "code",
   "execution_count": 137,
   "metadata": {},
   "outputs": [
    {
     "data": {
      "text/plain": [
       "(dtype('O'), dtype('O'), dtype('O'))"
      ]
     },
     "execution_count": 137,
     "metadata": {},
     "output_type": "execute_result"
    }
   ],
   "source": [
    "flights_2008.UniqueCarrier.dtype,flights_2008.Origin.dtype,flights_2008.Dest.dtype"
   ]
  },
  {
   "cell_type": "code",
   "execution_count": 138,
   "metadata": {},
   "outputs": [],
   "source": [
    "flights_2008['UniqueCarrier']=flights_2008.UniqueCarrier.astype('category')\n",
    "flights_2008['Origin']=flights_2008.Origin.astype('category')\n",
    "flights_2008['Dest']=flights_2008.Dest.astype('category')"
   ]
  },
  {
   "cell_type": "markdown",
   "metadata": {},
   "source": [
    "## Test"
   ]
  },
  {
   "cell_type": "code",
   "execution_count": 139,
   "metadata": {},
   "outputs": [
    {
     "data": {
      "text/plain": [
       "(CategoricalDtype(categories=['9E', 'AA', 'AQ', 'AS', 'B6', 'CO', 'DL', 'EV', 'F9', 'FL',\n",
       "                   'HA', 'MQ', 'NW', 'OH', 'OO', 'UA', 'US', 'WN', 'XE', 'YV'],\n",
       "                  ordered=False),\n",
       " CategoricalDtype(categories=['ABE', 'ABI', 'ABQ', 'ABY', 'ACK', 'ACT', 'ACV', 'ACY',\n",
       "                   'ADK', 'ADQ',\n",
       "                   ...\n",
       "                   'TYR', 'TYS', 'VLD', 'VPS', 'WRG', 'WYS', 'XNA', 'YAK',\n",
       "                   'YKM', 'YUM'],\n",
       "                  ordered=False),\n",
       " CategoricalDtype(categories=['ABE', 'ABI', 'ABQ', 'ABY', 'ACK', 'ACT', 'ACV', 'ACY',\n",
       "                   'ADK', 'ADQ',\n",
       "                   ...\n",
       "                   'TYR', 'TYS', 'VLD', 'VPS', 'WRG', 'WYS', 'XNA', 'YAK',\n",
       "                   'YKM', 'YUM'],\n",
       "                  ordered=False))"
      ]
     },
     "execution_count": 139,
     "metadata": {},
     "output_type": "execute_result"
    }
   ],
   "source": [
    "flights_2008.UniqueCarrier.dtype,flights_2008.Origin.dtype,flights_2008.Dest.dtype"
   ]
  },
  {
   "cell_type": "markdown",
   "metadata": {},
   "source": [
    "## Code\n",
    "\n",
    "We will create a new column with Boolean Delayed, which will populate if flight is delayed."
   ]
  },
  {
   "cell_type": "code",
   "execution_count": 140,
   "metadata": {},
   "outputs": [],
   "source": [
    "flights_2008['Delayed']=(flights_2008.CarrierDelay >0) |(flights_2008.WeatherDelay >0) | (flights_2008.NASDelay >0) |(flights_2008.SecurityDelay >0) |(flights_2008.LateAircraftDelay >0)"
   ]
  },
  {
   "cell_type": "markdown",
   "metadata": {},
   "source": [
    "## Test"
   ]
  },
  {
   "cell_type": "code",
   "execution_count": 141,
   "metadata": {},
   "outputs": [
    {
     "data": {
      "text/html": [
       "<div>\n",
       "<style scoped>\n",
       "    .dataframe tbody tr th:only-of-type {\n",
       "        vertical-align: middle;\n",
       "    }\n",
       "\n",
       "    .dataframe tbody tr th {\n",
       "        vertical-align: top;\n",
       "    }\n",
       "\n",
       "    .dataframe thead th {\n",
       "        text-align: right;\n",
       "    }\n",
       "</style>\n",
       "<table border=\"1\" class=\"dataframe\">\n",
       "  <thead>\n",
       "    <tr style=\"text-align: right;\">\n",
       "      <th></th>\n",
       "      <th>DayOfWeek</th>\n",
       "      <th>UniqueCarrier</th>\n",
       "      <th>FlightNum</th>\n",
       "      <th>ActualElapsedTime</th>\n",
       "      <th>CRSElapsedTime</th>\n",
       "      <th>AirTime</th>\n",
       "      <th>ArrDelay</th>\n",
       "      <th>DepDelay</th>\n",
       "      <th>Origin</th>\n",
       "      <th>Dest</th>\n",
       "      <th>...</th>\n",
       "      <th>WeatherDelay</th>\n",
       "      <th>NASDelay</th>\n",
       "      <th>SecurityDelay</th>\n",
       "      <th>LateAircraftDelay</th>\n",
       "      <th>DepDateTime</th>\n",
       "      <th>CRSDepDateTime</th>\n",
       "      <th>ArrDateTime</th>\n",
       "      <th>CRSArrDateTime</th>\n",
       "      <th>Route</th>\n",
       "      <th>Delayed</th>\n",
       "    </tr>\n",
       "  </thead>\n",
       "  <tbody>\n",
       "    <tr>\n",
       "      <th>4</th>\n",
       "      <td>4</td>\n",
       "      <td>WN</td>\n",
       "      <td>3920</td>\n",
       "      <td>90.0</td>\n",
       "      <td>90.0</td>\n",
       "      <td>77.0</td>\n",
       "      <td>34.0</td>\n",
       "      <td>34.0</td>\n",
       "      <td>IND</td>\n",
       "      <td>BWI</td>\n",
       "      <td>...</td>\n",
       "      <td>0.0</td>\n",
       "      <td>0.0</td>\n",
       "      <td>0.0</td>\n",
       "      <td>32.0</td>\n",
       "      <td>2008-01-03 18:29:00</td>\n",
       "      <td>2008-01-03 17:55:00</td>\n",
       "      <td>2008-01-03 19:59:00</td>\n",
       "      <td>2008-01-03 19:25:00</td>\n",
       "      <td>IND - BWI</td>\n",
       "      <td>True</td>\n",
       "    </tr>\n",
       "    <tr>\n",
       "      <th>6</th>\n",
       "      <td>4</td>\n",
       "      <td>WN</td>\n",
       "      <td>509</td>\n",
       "      <td>240.0</td>\n",
       "      <td>250.0</td>\n",
       "      <td>230.0</td>\n",
       "      <td>57.0</td>\n",
       "      <td>67.0</td>\n",
       "      <td>IND</td>\n",
       "      <td>LAS</td>\n",
       "      <td>...</td>\n",
       "      <td>0.0</td>\n",
       "      <td>0.0</td>\n",
       "      <td>0.0</td>\n",
       "      <td>47.0</td>\n",
       "      <td>2008-01-03 19:37:00</td>\n",
       "      <td>2008-01-03 18:30:00</td>\n",
       "      <td>2008-01-03 20:37:00</td>\n",
       "      <td>2008-01-03 19:40:00</td>\n",
       "      <td>IND - LAS</td>\n",
       "      <td>True</td>\n",
       "    </tr>\n",
       "    <tr>\n",
       "      <th>11</th>\n",
       "      <td>4</td>\n",
       "      <td>WN</td>\n",
       "      <td>1333</td>\n",
       "      <td>121.0</td>\n",
       "      <td>135.0</td>\n",
       "      <td>107.0</td>\n",
       "      <td>80.0</td>\n",
       "      <td>94.0</td>\n",
       "      <td>IND</td>\n",
       "      <td>MCO</td>\n",
       "      <td>...</td>\n",
       "      <td>0.0</td>\n",
       "      <td>0.0</td>\n",
       "      <td>0.0</td>\n",
       "      <td>72.0</td>\n",
       "      <td>2008-01-03 16:44:00</td>\n",
       "      <td>2008-01-03 15:10:00</td>\n",
       "      <td>2008-01-03 18:45:00</td>\n",
       "      <td>2008-01-03 17:25:00</td>\n",
       "      <td>IND - MCO</td>\n",
       "      <td>True</td>\n",
       "    </tr>\n",
       "    <tr>\n",
       "      <th>16</th>\n",
       "      <td>4</td>\n",
       "      <td>WN</td>\n",
       "      <td>675</td>\n",
       "      <td>228.0</td>\n",
       "      <td>240.0</td>\n",
       "      <td>213.0</td>\n",
       "      <td>15.0</td>\n",
       "      <td>27.0</td>\n",
       "      <td>IND</td>\n",
       "      <td>PHX</td>\n",
       "      <td>...</td>\n",
       "      <td>0.0</td>\n",
       "      <td>0.0</td>\n",
       "      <td>0.0</td>\n",
       "      <td>12.0</td>\n",
       "      <td>2008-01-03 14:52:00</td>\n",
       "      <td>2008-01-03 14:25:00</td>\n",
       "      <td>2008-01-03 16:40:00</td>\n",
       "      <td>2008-01-03 16:25:00</td>\n",
       "      <td>IND - PHX</td>\n",
       "      <td>True</td>\n",
       "    </tr>\n",
       "    <tr>\n",
       "      <th>18</th>\n",
       "      <td>4</td>\n",
       "      <td>WN</td>\n",
       "      <td>4</td>\n",
       "      <td>123.0</td>\n",
       "      <td>135.0</td>\n",
       "      <td>110.0</td>\n",
       "      <td>16.0</td>\n",
       "      <td>28.0</td>\n",
       "      <td>IND</td>\n",
       "      <td>TPA</td>\n",
       "      <td>...</td>\n",
       "      <td>0.0</td>\n",
       "      <td>0.0</td>\n",
       "      <td>0.0</td>\n",
       "      <td>16.0</td>\n",
       "      <td>2008-01-03 13:23:00</td>\n",
       "      <td>2008-01-03 12:55:00</td>\n",
       "      <td>2008-01-03 15:26:00</td>\n",
       "      <td>2008-01-03 15:10:00</td>\n",
       "      <td>IND - TPA</td>\n",
       "      <td>True</td>\n",
       "    </tr>\n",
       "  </tbody>\n",
       "</table>\n",
       "<p>5 rows × 27 columns</p>\n",
       "</div>"
      ],
      "text/plain": [
       "    DayOfWeek UniqueCarrier  FlightNum  ActualElapsedTime  CRSElapsedTime  \\\n",
       "4           4            WN       3920               90.0            90.0   \n",
       "6           4            WN        509              240.0           250.0   \n",
       "11          4            WN       1333              121.0           135.0   \n",
       "16          4            WN        675              228.0           240.0   \n",
       "18          4            WN          4              123.0           135.0   \n",
       "\n",
       "    AirTime  ArrDelay  DepDelay Origin Dest   ...     WeatherDelay  NASDelay  \\\n",
       "4      77.0      34.0      34.0    IND  BWI   ...              0.0       0.0   \n",
       "6     230.0      57.0      67.0    IND  LAS   ...              0.0       0.0   \n",
       "11    107.0      80.0      94.0    IND  MCO   ...              0.0       0.0   \n",
       "16    213.0      15.0      27.0    IND  PHX   ...              0.0       0.0   \n",
       "18    110.0      16.0      28.0    IND  TPA   ...              0.0       0.0   \n",
       "\n",
       "    SecurityDelay  LateAircraftDelay         DepDateTime      CRSDepDateTime  \\\n",
       "4             0.0               32.0 2008-01-03 18:29:00 2008-01-03 17:55:00   \n",
       "6             0.0               47.0 2008-01-03 19:37:00 2008-01-03 18:30:00   \n",
       "11            0.0               72.0 2008-01-03 16:44:00 2008-01-03 15:10:00   \n",
       "16            0.0               12.0 2008-01-03 14:52:00 2008-01-03 14:25:00   \n",
       "18            0.0               16.0 2008-01-03 13:23:00 2008-01-03 12:55:00   \n",
       "\n",
       "           ArrDateTime      CRSArrDateTime      Route  Delayed  \n",
       "4  2008-01-03 19:59:00 2008-01-03 19:25:00  IND - BWI     True  \n",
       "6  2008-01-03 20:37:00 2008-01-03 19:40:00  IND - LAS     True  \n",
       "11 2008-01-03 18:45:00 2008-01-03 17:25:00  IND - MCO     True  \n",
       "16 2008-01-03 16:40:00 2008-01-03 16:25:00  IND - PHX     True  \n",
       "18 2008-01-03 15:26:00 2008-01-03 15:10:00  IND - TPA     True  \n",
       "\n",
       "[5 rows x 27 columns]"
      ]
     },
     "execution_count": 141,
     "metadata": {},
     "output_type": "execute_result"
    }
   ],
   "source": [
    "flights_2008[flights_2008.Delayed].head()"
   ]
  },
  {
   "cell_type": "markdown",
   "metadata": {},
   "source": [
    "## Checkpoint and Storage\n",
    "\n",
    "We have addressed below issues in data wrangling. Now we will store the dataframe into new CSV for Tableau.\n",
    "\n",
    "1. Following columns have nan values:\n",
    "    * DepTime – Missing for cancelled flights\n",
    "    * ArrTime  – Missing for cancelled or diverted flights\n",
    "    * ActualElapsedTime – Missing for cancelled or diverted flights\n",
    "    * CRSElapsedTime – Missing for cancelled or diverted flights\n",
    "    * AirTime  – Missing for cancelled or diverted flights\n",
    "    * ArrDelay – Missing for cancelled or diverted flights\n",
    "    * DepDelay – Missing for cancelled or diverted flights\n",
    "    * TaxiIn – Missing for cancelled or diverted flights\n",
    "    * TaxiOut – Missing for cancelled or diverted flights\n",
    "    * CancellationCode – Missing for non-cancelled flight\n",
    "    * CarrierDelay – Missing for non-delayed flights\n",
    "    * WeatherDelay – Missing for non-delayed flights\n",
    "    * NASDelay – Missing for non-delayed flights\n",
    "    * SecurityDelay – Missing for non-delayed flights\n",
    "    * LateAircraftDelay – Missing for non-delayed flights\n",
    "2. Following columns are loaded as float64 instead of Time\n",
    "    * DepTime\n",
    "    * ArrTime\n",
    "3. Following columns are loaded as int64 instead of Time\n",
    "    * CRSDepTime\n",
    "    * CRSArrTime\n",
    "4. Following columns are loaded as int64 instead of Boolean\n",
    "    * Cancelled\n",
    "    * Diverted\n",
    "5. Change Carrier, Origin and Dest to Categorical.\n",
    "6. Year, Month and Day of Month are separate int64 attributes instead of Date. We will delete individual fields and create consolidated date time columns for CRSDep, CRSArr, Dep and Arr. There are some time fields with value 24:00 which should change date to next date.\n",
    "7.\tWe will create a new column with Boolean Delayed, which will populate if flight is delayed.\n",
    "\n",
    "    __Note__: In this case we cannot restructure delay time into one column because single delay can be caused by more than one reason.\n",
    "8.\tWe will create a new column Route of type object which is a Origin + “-“ + Dest.\n",
    "9. TailNum column will be deleted as we are not going to utilize this column in our analysis."
   ]
  },
  {
   "cell_type": "code",
   "execution_count": 142,
   "metadata": {},
   "outputs": [],
   "source": [
    "flights_2008.to_csv(\"flights_2008.csv\",index=False)"
   ]
  }
 ],
 "metadata": {
  "kernelspec": {
   "display_name": "Python 3",
   "language": "python",
   "name": "python3"
  },
  "language_info": {
   "codemirror_mode": {
    "name": "ipython",
    "version": 3
   },
   "file_extension": ".py",
   "mimetype": "text/x-python",
   "name": "python",
   "nbconvert_exporter": "python",
   "pygments_lexer": "ipython3",
   "version": "3.6.4"
  }
 },
 "nbformat": 4,
 "nbformat_minor": 2
}
