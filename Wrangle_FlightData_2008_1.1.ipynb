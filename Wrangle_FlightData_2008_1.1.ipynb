{
 "cells": [
  {
   "cell_type": "code",
   "execution_count": 1,
   "metadata": {},
   "outputs": [],
   "source": [
    "import pandas as pd"
   ]
  },
  {
   "cell_type": "code",
   "execution_count": 3,
   "metadata": {},
   "outputs": [],
   "source": [
    "flights_2008 = pd.read_csv(\"flights_2008.csv\",encoding='utf-8')"
   ]
  },
  {
   "cell_type": "code",
   "execution_count": 4,
   "metadata": {},
   "outputs": [
    {
     "name": "stdout",
     "output_type": "stream",
     "text": [
      "<class 'pandas.core.frame.DataFrame'>\n",
      "RangeIndex: 7009728 entries, 0 to 7009727\n",
      "Data columns (total 27 columns):\n",
      "DayOfWeek            int64\n",
      "UniqueCarrier        object\n",
      "FlightNum            int64\n",
      "ActualElapsedTime    float64\n",
      "CRSElapsedTime       float64\n",
      "AirTime              float64\n",
      "ArrDelay             float64\n",
      "DepDelay             float64\n",
      "Origin               object\n",
      "Dest                 object\n",
      "Distance             int64\n",
      "TaxiIn               float64\n",
      "TaxiOut              float64\n",
      "Cancelled            bool\n",
      "CancellationCode     object\n",
      "Diverted             bool\n",
      "CarrierDelay         float64\n",
      "WeatherDelay         float64\n",
      "NASDelay             float64\n",
      "SecurityDelay        float64\n",
      "LateAircraftDelay    float64\n",
      "DepDateTime          object\n",
      "CRSDepDateTime       object\n",
      "ArrDateTime          object\n",
      "CRSArrDateTime       object\n",
      "Route                object\n",
      "Delayed              bool\n",
      "dtypes: bool(3), float64(12), int64(3), object(9)\n",
      "memory usage: 1.3+ GB\n"
     ]
    }
   ],
   "source": [
    "flights_2008.info()"
   ]
  },
  {
   "cell_type": "code",
   "execution_count": 5,
   "metadata": {},
   "outputs": [],
   "source": [
    "flights_2008.drop(['ActualElapsedTime','CRSElapsedTime','AirTime','Distance','Route','Delayed'],axis=1,inplace=True)"
   ]
  },
  {
   "cell_type": "code",
   "execution_count": 6,
   "metadata": {},
   "outputs": [
    {
     "name": "stdout",
     "output_type": "stream",
     "text": [
      "<class 'pandas.core.frame.DataFrame'>\n",
      "RangeIndex: 7009728 entries, 0 to 7009727\n",
      "Data columns (total 21 columns):\n",
      "DayOfWeek            int64\n",
      "UniqueCarrier        object\n",
      "FlightNum            int64\n",
      "ArrDelay             float64\n",
      "DepDelay             float64\n",
      "Origin               object\n",
      "Dest                 object\n",
      "TaxiIn               float64\n",
      "TaxiOut              float64\n",
      "Cancelled            bool\n",
      "CancellationCode     object\n",
      "Diverted             bool\n",
      "CarrierDelay         float64\n",
      "WeatherDelay         float64\n",
      "NASDelay             float64\n",
      "SecurityDelay        float64\n",
      "LateAircraftDelay    float64\n",
      "DepDateTime          object\n",
      "CRSDepDateTime       object\n",
      "ArrDateTime          object\n",
      "CRSArrDateTime       object\n",
      "dtypes: bool(2), float64(9), int64(2), object(8)\n",
      "memory usage: 1.0+ GB\n"
     ]
    }
   ],
   "source": [
    "flights_2008.info()"
   ]
  },
  {
   "cell_type": "code",
   "execution_count": 7,
   "metadata": {},
   "outputs": [],
   "source": [
    "flights_2008['ArrDelay']=flights_2008.ArrDelay.astype('int64')\n",
    "flights_2008['DepDelay']=flights_2008.DepDelay.astype('int64')\n",
    "flights_2008['TaxiIn']=flights_2008.TaxiIn.astype('int64')\n",
    "flights_2008['TaxiOut']=flights_2008.TaxiOut.astype('int64')\n",
    "flights_2008['CarrierDelay']=flights_2008.CarrierDelay.astype('int64')\n",
    "flights_2008['WeatherDelay']=flights_2008.WeatherDelay.astype('int64')\n",
    "flights_2008['NASDelay']=flights_2008.NASDelay.astype('int64')\n",
    "flights_2008['SecurityDelay']=flights_2008.SecurityDelay.astype('int64')\n",
    "flights_2008['LateAircraftDelay']=flights_2008.LateAircraftDelay.astype('int64')"
   ]
  },
  {
   "cell_type": "code",
   "execution_count": 8,
   "metadata": {},
   "outputs": [],
   "source": [
    "flights_2008.to_csv(\"flights_2008_clean.csv\",index=False)"
   ]
  }
 ],
 "metadata": {
  "kernelspec": {
   "display_name": "Python 3",
   "language": "python",
   "name": "python3"
  },
  "language_info": {
   "codemirror_mode": {
    "name": "ipython",
    "version": 3
   },
   "file_extension": ".py",
   "mimetype": "text/x-python",
   "name": "python",
   "nbconvert_exporter": "python",
   "pygments_lexer": "ipython3",
   "version": "3.6.4"
  }
 },
 "nbformat": 4,
 "nbformat_minor": 2
}
